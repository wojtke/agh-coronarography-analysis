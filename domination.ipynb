{
 "cells": [
  {
   "cell_type": "code",
   "execution_count": 1,
   "id": "e4f96103-e2cd-4595-ba49-67601066765e",
   "metadata": {},
   "outputs": [],
   "source": [
    "from torch.utils.data import DataLoader\n",
    "import torchvision\n",
    "import torch\n",
    "from tqdm import tqdm\n",
    "import pandas as pd\n",
    "import os\n",
    "import pydicom\n",
    "import numpy as np"
   ]
  },
  {
   "cell_type": "code",
   "execution_count": 2,
   "id": "af031f89-0833-4410-b063-9f6ac1149dfb",
   "metadata": {},
   "outputs": [],
   "source": [
    "df_st = pd.read_csv(\"data/v2/study.csv\")\n",
    "df_st = df_st.set_index(\"ID\")\n",
    "df_st = df_st.dropna(subset=\"DOMINANCE\")"
   ]
  },
  {
   "cell_type": "code",
   "execution_count": 3,
   "id": "b3e0aebf-89b6-4036-84ef-a61fd3bf690f",
   "metadata": {},
   "outputs": [],
   "source": [
    "df_im = pd.read_csv(\"data/v2/image.csv\", sep=\";\")\n",
    "df_im = df_im.set_index(\"ID\")\n",
    "df_if = pd.read_csv(\"data/v2/imagefeedback.csv\", sep=\";\")\n",
    "df_if = df_if.set_index(\"IMAGE_ID\")"
   ]
  },
  {
   "cell_type": "code",
   "execution_count": 4,
   "id": "8da3d61c-aa2b-40ae-98a9-addc10a5626e",
   "metadata": {},
   "outputs": [],
   "source": [
    "def normalize_dicom(dcm) -> np.ndarray:\n",
    "    data = dcm.pixel_array.astype(\"float32\")\n",
    "    window_center = dcm.WindowCenter\n",
    "    window_width = dcm.WindowWidth\n",
    "    if isinstance(window_center, pydicom.multival.MultiValue):\n",
    "        window_center = window_center[0]\n",
    "    if isinstance(window_width, pydicom.multival.MultiValue):\n",
    "        window_width = window_width[0]\n",
    "    lower = window_center - window_width / 2\n",
    "    upper = window_center + window_width / 2\n",
    "    normalized = np.clip((data - lower) / (upper - lower), 0, 1)\n",
    "    return normalized\n"
   ]
  },
  {
   "cell_type": "code",
   "execution_count": 5,
   "id": "c2512df1-d42e-41e3-9892-40f43f97696e",
   "metadata": {},
   "outputs": [
    {
     "name": "stderr",
     "output_type": "stream",
     "text": [
      "100%|██████████████████████████████████████████████████████████████████████████████████████████████████████████████████████████| 541/541 [02:07<00:00,  4.24it/s]\n"
     ]
    }
   ],
   "source": [
    "# loading about 10GB of data\n",
    "dcm_files = os.listdir(\"data/frame_selection/dicoms/\")\n",
    "dcm_files = [f for f in dcm_files if f.endswith(\".dcm\")]\n",
    "\n",
    "parent = \"data/frame_selection/dicoms/\"\n",
    "images = {}\n",
    "for filename in tqdm(dcm_files):\n",
    "    dcm = pydicom.dcmread(parent + filename)\n",
    "    img = normalize_dicom(dcm)\n",
    "    images[filename.replace(\".dcm\", \"\")] = img"
   ]
  },
  {
   "cell_type": "code",
   "execution_count": null,
   "id": "7e3bda3d-8b18-486d-b23f-61ffa7226b81",
   "metadata": {},
   "outputs": [],
   "source": []
  },
  {
   "cell_type": "code",
   "execution_count": 6,
   "id": "34dc6914-87d4-40eb-8b1a-d16bc868d762",
   "metadata": {
    "scrolled": true
   },
   "outputs": [
    {
     "data": {
      "text/html": [
       "<div>\n",
       "<style scoped>\n",
       "    .dataframe tbody tr th:only-of-type {\n",
       "        vertical-align: middle;\n",
       "    }\n",
       "\n",
       "    .dataframe tbody tr th {\n",
       "        vertical-align: top;\n",
       "    }\n",
       "\n",
       "    .dataframe thead th {\n",
       "        text-align: right;\n",
       "    }\n",
       "</style>\n",
       "<table border=\"1\" class=\"dataframe\">\n",
       "  <thead>\n",
       "    <tr style=\"text-align: right;\">\n",
       "      <th></th>\n",
       "      <th>ACQUISITIONDATE</th>\n",
       "      <th>ACQUISITIONNO</th>\n",
       "      <th>ACQUISITIONUID</th>\n",
       "      <th>AGE</th>\n",
       "      <th>BATCH</th>\n",
       "      <th>BODYPARTEXAMINED</th>\n",
       "      <th>DATASET</th>\n",
       "      <th>FRAMERATE</th>\n",
       "      <th>FRAMES</th>\n",
       "      <th>INSTANCENO</th>\n",
       "      <th>...</th>\n",
       "      <th>DOMINANCE</th>\n",
       "      <th>ID</th>\n",
       "      <th>CREATEDBY</th>\n",
       "      <th>CREATEDON</th>\n",
       "      <th>SEGMENTATION_ID</th>\n",
       "      <th>DONE</th>\n",
       "      <th>studyFeedback_id</th>\n",
       "      <th>frame</th>\n",
       "      <th>SIDE</th>\n",
       "      <th>SIDE_mean</th>\n",
       "    </tr>\n",
       "    <tr>\n",
       "      <th>ID</th>\n",
       "      <th></th>\n",
       "      <th></th>\n",
       "      <th></th>\n",
       "      <th></th>\n",
       "      <th></th>\n",
       "      <th></th>\n",
       "      <th></th>\n",
       "      <th></th>\n",
       "      <th></th>\n",
       "      <th></th>\n",
       "      <th></th>\n",
       "      <th></th>\n",
       "      <th></th>\n",
       "      <th></th>\n",
       "      <th></th>\n",
       "      <th></th>\n",
       "      <th></th>\n",
       "      <th></th>\n",
       "      <th></th>\n",
       "      <th></th>\n",
       "      <th></th>\n",
       "    </tr>\n",
       "  </thead>\n",
       "  <tbody>\n",
       "    <tr>\n",
       "      <th>131aedfhs6pnf1fvtvp493iu1n6d1qnz22</th>\n",
       "      <td>NaN</td>\n",
       "      <td>NaN</td>\n",
       "      <td>NaN</td>\n",
       "      <td>NaN</td>\n",
       "      <td>34</td>\n",
       "      <td>NaN</td>\n",
       "      <td>Rzeszow-MSW2</td>\n",
       "      <td>0</td>\n",
       "      <td>76</td>\n",
       "      <td>NaN</td>\n",
       "      <td>...</td>\n",
       "      <td>1.0</td>\n",
       "      <td>2a1b15a0-39cf-4893-8ed0-a2246f474411</td>\n",
       "      <td>sgurba@gmail.com</td>\n",
       "      <td>2023-12-30 21:45</td>\n",
       "      <td>2a1b15a0-39cf-4893-8ed0-a2246f474411</td>\n",
       "      <td>0.0</td>\n",
       "      <td>ce8a09b0-70e3-4c4a-a711-a3e8fadf1694</td>\n",
       "      <td>34.0</td>\n",
       "      <td>0.0</td>\n",
       "      <td>0.5</td>\n",
       "    </tr>\n",
       "    <tr>\n",
       "      <th>131aedfhs6pnf1fvtvp493iu1n8gd3gs22</th>\n",
       "      <td>NaN</td>\n",
       "      <td>NaN</td>\n",
       "      <td>NaN</td>\n",
       "      <td>NaN</td>\n",
       "      <td>34</td>\n",
       "      <td>NaN</td>\n",
       "      <td>Rzeszow-MSW2</td>\n",
       "      <td>0</td>\n",
       "      <td>70</td>\n",
       "      <td>NaN</td>\n",
       "      <td>...</td>\n",
       "      <td>1.0</td>\n",
       "      <td>2e35aa91-5c1e-4856-a270-db5476db36dc</td>\n",
       "      <td>sgurba@gmail.com</td>\n",
       "      <td>2023-12-30 21:45</td>\n",
       "      <td>2e35aa91-5c1e-4856-a270-db5476db36dc</td>\n",
       "      <td>0.0</td>\n",
       "      <td>ce8a09b0-70e3-4c4a-a711-a3e8fadf1694</td>\n",
       "      <td>31.0</td>\n",
       "      <td>0.0</td>\n",
       "      <td>0.5</td>\n",
       "    </tr>\n",
       "    <tr>\n",
       "      <th>131aedfhs6pnf1fvtvp493iu1na8zz7s22</th>\n",
       "      <td>NaN</td>\n",
       "      <td>NaN</td>\n",
       "      <td>NaN</td>\n",
       "      <td>NaN</td>\n",
       "      <td>34</td>\n",
       "      <td>NaN</td>\n",
       "      <td>Rzeszow-MSW2</td>\n",
       "      <td>0</td>\n",
       "      <td>59</td>\n",
       "      <td>NaN</td>\n",
       "      <td>...</td>\n",
       "      <td>1.0</td>\n",
       "      <td>f1dad2cb-9cb4-45c6-97c2-557416b192c6</td>\n",
       "      <td>sgurba@gmail.com</td>\n",
       "      <td>2023-12-30 21:45</td>\n",
       "      <td>f1dad2cb-9cb4-45c6-97c2-557416b192c6</td>\n",
       "      <td>0.0</td>\n",
       "      <td>ce8a09b0-70e3-4c4a-a711-a3e8fadf1694</td>\n",
       "      <td>22.0</td>\n",
       "      <td>0.0</td>\n",
       "      <td>0.5</td>\n",
       "    </tr>\n",
       "    <tr>\n",
       "      <th>131aedfhs6pnf1fvtvp493iu1nekk6h022</th>\n",
       "      <td>NaN</td>\n",
       "      <td>NaN</td>\n",
       "      <td>NaN</td>\n",
       "      <td>NaN</td>\n",
       "      <td>34</td>\n",
       "      <td>NaN</td>\n",
       "      <td>Rzeszow-MSW2</td>\n",
       "      <td>0</td>\n",
       "      <td>43</td>\n",
       "      <td>NaN</td>\n",
       "      <td>...</td>\n",
       "      <td>1.0</td>\n",
       "      <td>31385931-a25b-4745-b88b-38c5fd058bdd</td>\n",
       "      <td>sgurba@gmail.com</td>\n",
       "      <td>2023-12-30 21:45</td>\n",
       "      <td>31385931-a25b-4745-b88b-38c5fd058bdd</td>\n",
       "      <td>0.0</td>\n",
       "      <td>ce8a09b0-70e3-4c4a-a711-a3e8fadf1694</td>\n",
       "      <td>18.0</td>\n",
       "      <td>1.0</td>\n",
       "      <td>0.5</td>\n",
       "    </tr>\n",
       "    <tr>\n",
       "      <th>131aedfhs6pnf1fvtvp493iu1neqswr222</th>\n",
       "      <td>NaN</td>\n",
       "      <td>NaN</td>\n",
       "      <td>NaN</td>\n",
       "      <td>NaN</td>\n",
       "      <td>34</td>\n",
       "      <td>NaN</td>\n",
       "      <td>Rzeszow-MSW2</td>\n",
       "      <td>0</td>\n",
       "      <td>61</td>\n",
       "      <td>NaN</td>\n",
       "      <td>...</td>\n",
       "      <td>1.0</td>\n",
       "      <td>4a61b044-3967-46fa-b240-872af197f698</td>\n",
       "      <td>sgurba@gmail.com</td>\n",
       "      <td>2023-12-30 21:45</td>\n",
       "      <td>4a61b044-3967-46fa-b240-872af197f698</td>\n",
       "      <td>0.0</td>\n",
       "      <td>ce8a09b0-70e3-4c4a-a711-a3e8fadf1694</td>\n",
       "      <td>32.0</td>\n",
       "      <td>1.0</td>\n",
       "      <td>0.5</td>\n",
       "    </tr>\n",
       "    <tr>\n",
       "      <th>...</th>\n",
       "      <td>...</td>\n",
       "      <td>...</td>\n",
       "      <td>...</td>\n",
       "      <td>...</td>\n",
       "      <td>...</td>\n",
       "      <td>...</td>\n",
       "      <td>...</td>\n",
       "      <td>...</td>\n",
       "      <td>...</td>\n",
       "      <td>...</td>\n",
       "      <td>...</td>\n",
       "      <td>...</td>\n",
       "      <td>...</td>\n",
       "      <td>...</td>\n",
       "      <td>...</td>\n",
       "      <td>...</td>\n",
       "      <td>...</td>\n",
       "      <td>...</td>\n",
       "      <td>...</td>\n",
       "      <td>...</td>\n",
       "      <td>...</td>\n",
       "    </tr>\n",
       "    <tr>\n",
       "      <th>13c2ur549vohc0jat2wqi9spx2</th>\n",
       "      <td>20180213.0</td>\n",
       "      <td>9.0</td>\n",
       "      <td>NaN</td>\n",
       "      <td>076Y</td>\n",
       "      <td>7</td>\n",
       "      <td>NaN</td>\n",
       "      <td>data</td>\n",
       "      <td>0</td>\n",
       "      <td>37</td>\n",
       "      <td>NaN</td>\n",
       "      <td>...</td>\n",
       "      <td>1.0</td>\n",
       "      <td>2560349c-d557-4540-9e38-dfc1ff9ef792</td>\n",
       "      <td>sgurba@gmail.com</td>\n",
       "      <td>2023-12-23 13:23</td>\n",
       "      <td>2560349c-d557-4540-9e38-dfc1ff9ef792</td>\n",
       "      <td>0.0</td>\n",
       "      <td>57ca094f-50be-4a16-a08c-026362ceb2eb</td>\n",
       "      <td>19.0</td>\n",
       "      <td>0.0</td>\n",
       "      <td>0.4</td>\n",
       "    </tr>\n",
       "    <tr>\n",
       "      <th>13c2ur549vohc0jat2wqi9syl1</th>\n",
       "      <td>20180213.0</td>\n",
       "      <td>10.0</td>\n",
       "      <td>NaN</td>\n",
       "      <td>076Y</td>\n",
       "      <td>7</td>\n",
       "      <td>NaN</td>\n",
       "      <td>data</td>\n",
       "      <td>0</td>\n",
       "      <td>19</td>\n",
       "      <td>NaN</td>\n",
       "      <td>...</td>\n",
       "      <td>1.0</td>\n",
       "      <td>959a1a20-7e85-453a-86e1-e057153a5ff0</td>\n",
       "      <td>sgurba@gmail.com</td>\n",
       "      <td>2023-12-23 13:23</td>\n",
       "      <td>959a1a20-7e85-453a-86e1-e057153a5ff0</td>\n",
       "      <td>0.0</td>\n",
       "      <td>57ca094f-50be-4a16-a08c-026362ceb2eb</td>\n",
       "      <td>11.0</td>\n",
       "      <td>0.0</td>\n",
       "      <td>0.4</td>\n",
       "    </tr>\n",
       "    <tr>\n",
       "      <th>13c2ur549vohc0jat2wqi9t2i1</th>\n",
       "      <td>20180213.0</td>\n",
       "      <td>13.0</td>\n",
       "      <td>NaN</td>\n",
       "      <td>076Y</td>\n",
       "      <td>7</td>\n",
       "      <td>NaN</td>\n",
       "      <td>data</td>\n",
       "      <td>0</td>\n",
       "      <td>31</td>\n",
       "      <td>NaN</td>\n",
       "      <td>...</td>\n",
       "      <td>1.0</td>\n",
       "      <td>35aa568b-8249-4675-ad44-0cf741ea9c26</td>\n",
       "      <td>sgurba@gmail.com</td>\n",
       "      <td>2023-12-23 13:23</td>\n",
       "      <td>35aa568b-8249-4675-ad44-0cf741ea9c26</td>\n",
       "      <td>0.0</td>\n",
       "      <td>57ca094f-50be-4a16-a08c-026362ceb2eb</td>\n",
       "      <td>20.0</td>\n",
       "      <td>0.0</td>\n",
       "      <td>0.4</td>\n",
       "    </tr>\n",
       "    <tr>\n",
       "      <th>13c2ur549vohc0jat2wqk9u231</th>\n",
       "      <td>20180213.0</td>\n",
       "      <td>19.0</td>\n",
       "      <td>NaN</td>\n",
       "      <td>076Y</td>\n",
       "      <td>7</td>\n",
       "      <td>NaN</td>\n",
       "      <td>data</td>\n",
       "      <td>0</td>\n",
       "      <td>42</td>\n",
       "      <td>NaN</td>\n",
       "      <td>...</td>\n",
       "      <td>1.0</td>\n",
       "      <td>1ecaaa15-1f11-46c4-992c-e13af7d91718</td>\n",
       "      <td>sgurba@gmail.com</td>\n",
       "      <td>2023-12-23 13:23</td>\n",
       "      <td>1ecaaa15-1f11-46c4-992c-e13af7d91718</td>\n",
       "      <td>0.0</td>\n",
       "      <td>57ca094f-50be-4a16-a08c-026362ceb2eb</td>\n",
       "      <td>35.0</td>\n",
       "      <td>1.0</td>\n",
       "      <td>0.4</td>\n",
       "    </tr>\n",
       "    <tr>\n",
       "      <th>13c2ur549vohc0jat2wqk9u6v1</th>\n",
       "      <td>20180213.0</td>\n",
       "      <td>21.0</td>\n",
       "      <td>NaN</td>\n",
       "      <td>076Y</td>\n",
       "      <td>7</td>\n",
       "      <td>NaN</td>\n",
       "      <td>data</td>\n",
       "      <td>0</td>\n",
       "      <td>31</td>\n",
       "      <td>NaN</td>\n",
       "      <td>...</td>\n",
       "      <td>1.0</td>\n",
       "      <td>fb9a0ca3-5edf-4191-b7d4-6cb5ef40e723</td>\n",
       "      <td>sgurba@gmail.com</td>\n",
       "      <td>2023-12-23 13:23</td>\n",
       "      <td>fb9a0ca3-5edf-4191-b7d4-6cb5ef40e723</td>\n",
       "      <td>0.0</td>\n",
       "      <td>57ca094f-50be-4a16-a08c-026362ceb2eb</td>\n",
       "      <td>16.0</td>\n",
       "      <td>1.0</td>\n",
       "      <td>0.4</td>\n",
       "    </tr>\n",
       "  </tbody>\n",
       "</table>\n",
       "<p>690 rows × 37 columns</p>\n",
       "</div>"
      ],
      "text/plain": [
       "                                    ACQUISITIONDATE  ACQUISITIONNO  \\\n",
       "ID                                                                   \n",
       "131aedfhs6pnf1fvtvp493iu1n6d1qnz22              NaN            NaN   \n",
       "131aedfhs6pnf1fvtvp493iu1n8gd3gs22              NaN            NaN   \n",
       "131aedfhs6pnf1fvtvp493iu1na8zz7s22              NaN            NaN   \n",
       "131aedfhs6pnf1fvtvp493iu1nekk6h022              NaN            NaN   \n",
       "131aedfhs6pnf1fvtvp493iu1neqswr222              NaN            NaN   \n",
       "...                                             ...            ...   \n",
       "13c2ur549vohc0jat2wqi9spx2               20180213.0            9.0   \n",
       "13c2ur549vohc0jat2wqi9syl1               20180213.0           10.0   \n",
       "13c2ur549vohc0jat2wqi9t2i1               20180213.0           13.0   \n",
       "13c2ur549vohc0jat2wqk9u231               20180213.0           19.0   \n",
       "13c2ur549vohc0jat2wqk9u6v1               20180213.0           21.0   \n",
       "\n",
       "                                    ACQUISITIONUID   AGE BATCH  \\\n",
       "ID                                                               \n",
       "131aedfhs6pnf1fvtvp493iu1n6d1qnz22             NaN   NaN    34   \n",
       "131aedfhs6pnf1fvtvp493iu1n8gd3gs22             NaN   NaN    34   \n",
       "131aedfhs6pnf1fvtvp493iu1na8zz7s22             NaN   NaN    34   \n",
       "131aedfhs6pnf1fvtvp493iu1nekk6h022             NaN   NaN    34   \n",
       "131aedfhs6pnf1fvtvp493iu1neqswr222             NaN   NaN    34   \n",
       "...                                            ...   ...   ...   \n",
       "13c2ur549vohc0jat2wqi9spx2                     NaN  076Y     7   \n",
       "13c2ur549vohc0jat2wqi9syl1                     NaN  076Y     7   \n",
       "13c2ur549vohc0jat2wqi9t2i1                     NaN  076Y     7   \n",
       "13c2ur549vohc0jat2wqk9u231                     NaN  076Y     7   \n",
       "13c2ur549vohc0jat2wqk9u6v1                     NaN  076Y     7   \n",
       "\n",
       "                                   BODYPARTEXAMINED       DATASET  FRAMERATE  \\\n",
       "ID                                                                             \n",
       "131aedfhs6pnf1fvtvp493iu1n6d1qnz22              NaN  Rzeszow-MSW2          0   \n",
       "131aedfhs6pnf1fvtvp493iu1n8gd3gs22              NaN  Rzeszow-MSW2          0   \n",
       "131aedfhs6pnf1fvtvp493iu1na8zz7s22              NaN  Rzeszow-MSW2          0   \n",
       "131aedfhs6pnf1fvtvp493iu1nekk6h022              NaN  Rzeszow-MSW2          0   \n",
       "131aedfhs6pnf1fvtvp493iu1neqswr222              NaN  Rzeszow-MSW2          0   \n",
       "...                                             ...           ...        ...   \n",
       "13c2ur549vohc0jat2wqi9spx2                      NaN          data          0   \n",
       "13c2ur549vohc0jat2wqi9syl1                      NaN          data          0   \n",
       "13c2ur549vohc0jat2wqi9t2i1                      NaN          data          0   \n",
       "13c2ur549vohc0jat2wqk9u231                      NaN          data          0   \n",
       "13c2ur549vohc0jat2wqk9u6v1                      NaN          data          0   \n",
       "\n",
       "                                    FRAMES  INSTANCENO  ...  DOMINANCE  \\\n",
       "ID                                                      ...              \n",
       "131aedfhs6pnf1fvtvp493iu1n6d1qnz22      76         NaN  ...        1.0   \n",
       "131aedfhs6pnf1fvtvp493iu1n8gd3gs22      70         NaN  ...        1.0   \n",
       "131aedfhs6pnf1fvtvp493iu1na8zz7s22      59         NaN  ...        1.0   \n",
       "131aedfhs6pnf1fvtvp493iu1nekk6h022      43         NaN  ...        1.0   \n",
       "131aedfhs6pnf1fvtvp493iu1neqswr222      61         NaN  ...        1.0   \n",
       "...                                    ...         ...  ...        ...   \n",
       "13c2ur549vohc0jat2wqi9spx2              37         NaN  ...        1.0   \n",
       "13c2ur549vohc0jat2wqi9syl1              19         NaN  ...        1.0   \n",
       "13c2ur549vohc0jat2wqi9t2i1              31         NaN  ...        1.0   \n",
       "13c2ur549vohc0jat2wqk9u231              42         NaN  ...        1.0   \n",
       "13c2ur549vohc0jat2wqk9u6v1              31         NaN  ...        1.0   \n",
       "\n",
       "                                                                      ID  \\\n",
       "ID                                                                         \n",
       "131aedfhs6pnf1fvtvp493iu1n6d1qnz22  2a1b15a0-39cf-4893-8ed0-a2246f474411   \n",
       "131aedfhs6pnf1fvtvp493iu1n8gd3gs22  2e35aa91-5c1e-4856-a270-db5476db36dc   \n",
       "131aedfhs6pnf1fvtvp493iu1na8zz7s22  f1dad2cb-9cb4-45c6-97c2-557416b192c6   \n",
       "131aedfhs6pnf1fvtvp493iu1nekk6h022  31385931-a25b-4745-b88b-38c5fd058bdd   \n",
       "131aedfhs6pnf1fvtvp493iu1neqswr222  4a61b044-3967-46fa-b240-872af197f698   \n",
       "...                                                                  ...   \n",
       "13c2ur549vohc0jat2wqi9spx2          2560349c-d557-4540-9e38-dfc1ff9ef792   \n",
       "13c2ur549vohc0jat2wqi9syl1          959a1a20-7e85-453a-86e1-e057153a5ff0   \n",
       "13c2ur549vohc0jat2wqi9t2i1          35aa568b-8249-4675-ad44-0cf741ea9c26   \n",
       "13c2ur549vohc0jat2wqk9u231          1ecaaa15-1f11-46c4-992c-e13af7d91718   \n",
       "13c2ur549vohc0jat2wqk9u6v1          fb9a0ca3-5edf-4191-b7d4-6cb5ef40e723   \n",
       "\n",
       "                                           CREATEDBY         CREATEDON  \\\n",
       "ID                                                                       \n",
       "131aedfhs6pnf1fvtvp493iu1n6d1qnz22  sgurba@gmail.com  2023-12-30 21:45   \n",
       "131aedfhs6pnf1fvtvp493iu1n8gd3gs22  sgurba@gmail.com  2023-12-30 21:45   \n",
       "131aedfhs6pnf1fvtvp493iu1na8zz7s22  sgurba@gmail.com  2023-12-30 21:45   \n",
       "131aedfhs6pnf1fvtvp493iu1nekk6h022  sgurba@gmail.com  2023-12-30 21:45   \n",
       "131aedfhs6pnf1fvtvp493iu1neqswr222  sgurba@gmail.com  2023-12-30 21:45   \n",
       "...                                              ...               ...   \n",
       "13c2ur549vohc0jat2wqi9spx2          sgurba@gmail.com  2023-12-23 13:23   \n",
       "13c2ur549vohc0jat2wqi9syl1          sgurba@gmail.com  2023-12-23 13:23   \n",
       "13c2ur549vohc0jat2wqi9t2i1          sgurba@gmail.com  2023-12-23 13:23   \n",
       "13c2ur549vohc0jat2wqk9u231          sgurba@gmail.com  2023-12-23 13:23   \n",
       "13c2ur549vohc0jat2wqk9u6v1          sgurba@gmail.com  2023-12-23 13:23   \n",
       "\n",
       "                                                         SEGMENTATION_ID DONE  \\\n",
       "ID                                                                              \n",
       "131aedfhs6pnf1fvtvp493iu1n6d1qnz22  2a1b15a0-39cf-4893-8ed0-a2246f474411  0.0   \n",
       "131aedfhs6pnf1fvtvp493iu1n8gd3gs22  2e35aa91-5c1e-4856-a270-db5476db36dc  0.0   \n",
       "131aedfhs6pnf1fvtvp493iu1na8zz7s22  f1dad2cb-9cb4-45c6-97c2-557416b192c6  0.0   \n",
       "131aedfhs6pnf1fvtvp493iu1nekk6h022  31385931-a25b-4745-b88b-38c5fd058bdd  0.0   \n",
       "131aedfhs6pnf1fvtvp493iu1neqswr222  4a61b044-3967-46fa-b240-872af197f698  0.0   \n",
       "...                                                                  ...  ...   \n",
       "13c2ur549vohc0jat2wqi9spx2          2560349c-d557-4540-9e38-dfc1ff9ef792  0.0   \n",
       "13c2ur549vohc0jat2wqi9syl1          959a1a20-7e85-453a-86e1-e057153a5ff0  0.0   \n",
       "13c2ur549vohc0jat2wqi9t2i1          35aa568b-8249-4675-ad44-0cf741ea9c26  0.0   \n",
       "13c2ur549vohc0jat2wqk9u231          1ecaaa15-1f11-46c4-992c-e13af7d91718  0.0   \n",
       "13c2ur549vohc0jat2wqk9u6v1          fb9a0ca3-5edf-4191-b7d4-6cb5ef40e723  0.0   \n",
       "\n",
       "                                                        studyFeedback_id  \\\n",
       "ID                                                                         \n",
       "131aedfhs6pnf1fvtvp493iu1n6d1qnz22  ce8a09b0-70e3-4c4a-a711-a3e8fadf1694   \n",
       "131aedfhs6pnf1fvtvp493iu1n8gd3gs22  ce8a09b0-70e3-4c4a-a711-a3e8fadf1694   \n",
       "131aedfhs6pnf1fvtvp493iu1na8zz7s22  ce8a09b0-70e3-4c4a-a711-a3e8fadf1694   \n",
       "131aedfhs6pnf1fvtvp493iu1nekk6h022  ce8a09b0-70e3-4c4a-a711-a3e8fadf1694   \n",
       "131aedfhs6pnf1fvtvp493iu1neqswr222  ce8a09b0-70e3-4c4a-a711-a3e8fadf1694   \n",
       "...                                                                  ...   \n",
       "13c2ur549vohc0jat2wqi9spx2          57ca094f-50be-4a16-a08c-026362ceb2eb   \n",
       "13c2ur549vohc0jat2wqi9syl1          57ca094f-50be-4a16-a08c-026362ceb2eb   \n",
       "13c2ur549vohc0jat2wqi9t2i1          57ca094f-50be-4a16-a08c-026362ceb2eb   \n",
       "13c2ur549vohc0jat2wqk9u231          57ca094f-50be-4a16-a08c-026362ceb2eb   \n",
       "13c2ur549vohc0jat2wqk9u6v1          57ca094f-50be-4a16-a08c-026362ceb2eb   \n",
       "\n",
       "                                   frame  SIDE SIDE_mean  \n",
       "ID                                                        \n",
       "131aedfhs6pnf1fvtvp493iu1n6d1qnz22  34.0   0.0       0.5  \n",
       "131aedfhs6pnf1fvtvp493iu1n8gd3gs22  31.0   0.0       0.5  \n",
       "131aedfhs6pnf1fvtvp493iu1na8zz7s22  22.0   0.0       0.5  \n",
       "131aedfhs6pnf1fvtvp493iu1nekk6h022  18.0   1.0       0.5  \n",
       "131aedfhs6pnf1fvtvp493iu1neqswr222  32.0   1.0       0.5  \n",
       "...                                  ...   ...       ...  \n",
       "13c2ur549vohc0jat2wqi9spx2          19.0   0.0       0.4  \n",
       "13c2ur549vohc0jat2wqi9syl1          11.0   0.0       0.4  \n",
       "13c2ur549vohc0jat2wqi9t2i1          20.0   0.0       0.4  \n",
       "13c2ur549vohc0jat2wqk9u231          35.0   1.0       0.4  \n",
       "13c2ur549vohc0jat2wqk9u6v1          16.0   1.0       0.4  \n",
       "\n",
       "[690 rows x 37 columns]"
      ]
     },
     "execution_count": 6,
     "metadata": {},
     "output_type": "execute_result"
    }
   ],
   "source": [
    "studies = df_st[[\"DOMINANCE\"]]\n",
    "imgs = df_im.join(studies, how=\"inner\", on=\"STUDY_ID\")\n",
    "imgs = imgs.join(df_if)\n",
    "imgs = imgs.dropna(subset=\"SIDE\")\n",
    "imgs = imgs.loc[imgs.index.map(lambda x: x in images)]\n",
    "imgs = imgs.join(imgs.groupby(\"STUDY_ID\")[\"SIDE\"].mean(), on=\"STUDY_ID\", rsuffix=\"_mean\")\n",
    "imgs = imgs.loc[(imgs[\"SIDE_mean\"]>0) & (imgs[\"SIDE_mean\"]<1)]\n",
    "imgs"
   ]
  },
  {
   "cell_type": "code",
   "execution_count": 7,
   "id": "f9079c25-c1fc-4f57-9671-8022bd9bf6ba",
   "metadata": {},
   "outputs": [],
   "source": [
    "from torchvision import transforms\n",
    "\n",
    "class DominanceDataset:  \n",
    "    def __init__(self, images: dict, df: pd.DataFrame):\n",
    "        self.images = images\n",
    "        self.studies = df[\"STUDY_ID\"].unique()\n",
    "        self.df = df\n",
    "        \n",
    "        self.transform = transforms.Compose([\n",
    "            transforms.ToTensor(),\n",
    "            transforms.Resize((224, 224), antialias=None),\n",
    "            transforms.Normalize([0.5], [0.5])   \n",
    "        ])\n",
    "                \n",
    "    def __len__(self):\n",
    "        return len(self.studies)\n",
    "\n",
    "    def __getitem__(self, idx):\n",
    "        study_id = self.studies[idx]\n",
    "        img_subset = self.df[self.df[\"STUDY_ID\"]==study_id]\n",
    "        label = img_subset.iloc[0][\"DOMINANCE\"]\n",
    "        \n",
    "        left = img_subset[img_subset.SIDE == 0].sample(1).reset_index(names=\"idx\").iloc[0]\n",
    "        right = img_subset[img_subset.SIDE == 1].sample(1).reset_index(names=\"idx\").iloc[0]\n",
    "\n",
    "        img_left = self.images[left.idx][int(left.frame)]\n",
    "        img_right = self.images[right.idx][int(right.frame)]\n",
    "        img_left = self.transform(img_left)\n",
    "        img_right = self.transform(img_right)\n",
    "        \n",
    "        return img_left, img_right, label\n",
    "        \n"
   ]
  },
  {
   "cell_type": "code",
   "execution_count": 8,
   "id": "e2d8031e-de5f-4a6b-8ad4-1a97df228396",
   "metadata": {},
   "outputs": [],
   "source": [
    "import torchvision\n",
    "import torch.nn as nn\n",
    "\n",
    "class SiameseResNet(torch.nn.Module):\n",
    "    def __init__(self):\n",
    "        super(SiameseResNet, self).__init__()\n",
    "        self.base_model = torchvision.models.resnet18(pretrained=True)\n",
    "        self.base_model.conv1 = torch.nn.Conv2d(1, 64, kernel_size=(7, 7), stride=(2, 2), padding=(3, 3), bias=False)\n",
    "        self.base_model.fc = nn.Identity()\n",
    "        self.classifier = nn.Sequential(\n",
    "            nn.Linear(512 * 2, 512),\n",
    "            nn.ReLU(),\n",
    "            nn.Dropout(0.3),\n",
    "            nn.Linear(512, 256),\n",
    "            nn.ReLU(),\n",
    "            nn.Dropout(0.3),\n",
    "            nn.Linear(256, 1),\n",
    "        )\n",
    "\n",
    "    def forward(self, img1, img2):\n",
    "        features1 = self.base_model(img1)\n",
    "        features2 = self.base_model(img2)\n",
    "        combined_features = torch.cat((features1, features2), dim=1)\n",
    "        result = self.classifier(combined_features)\n",
    "        return result"
   ]
  },
  {
   "cell_type": "code",
   "execution_count": 9,
   "id": "01df3f55-c980-4c67-8bd0-aedb7ade805e",
   "metadata": {},
   "outputs": [
    {
     "name": "stderr",
     "output_type": "stream",
     "text": [
      "/root/przemek/miniconda3/envs/torch21/lib/python3.10/site-packages/torchvision/models/_utils.py:208: UserWarning: The parameter 'pretrained' is deprecated since 0.13 and may be removed in the future, please use 'weights' instead.\n",
      "  warnings.warn(\n",
      "/root/przemek/miniconda3/envs/torch21/lib/python3.10/site-packages/torchvision/models/_utils.py:223: UserWarning: Arguments other than a weight enum or `None` for 'weights' are deprecated since 0.13 and may be removed in the future. The current behavior is equivalent to passing `weights=ResNet18_Weights.IMAGENET1K_V1`. You can also use `weights=ResNet18_Weights.DEFAULT` to get the most up-to-date weights.\n",
      "  warnings.warn(msg)\n",
      "100%|████████████████████████████████████████████████████████████████████████████████████████████████████████████████████████████| 23/23 [00:04<00:00,  4.64it/s]\n"
     ]
    },
    {
     "name": "stdout",
     "output_type": "stream",
     "text": [
      "Epoch [1], Loss: 1.7368\n"
     ]
    },
    {
     "name": "stderr",
     "output_type": "stream",
     "text": [
      "100%|████████████████████████████████████████████████████████████████████████████████████████████████████████████████████████████| 23/23 [00:01<00:00, 12.62it/s]\n"
     ]
    },
    {
     "name": "stdout",
     "output_type": "stream",
     "text": [
      "Epoch [2], Loss: 3.5275\n"
     ]
    },
    {
     "name": "stderr",
     "output_type": "stream",
     "text": [
      "100%|████████████████████████████████████████████████████████████████████████████████████████████████████████████████████████████| 23/23 [00:01<00:00, 13.92it/s]\n"
     ]
    },
    {
     "name": "stdout",
     "output_type": "stream",
     "text": [
      "Epoch [3], Loss: 0.0135\n"
     ]
    },
    {
     "name": "stderr",
     "output_type": "stream",
     "text": [
      "100%|████████████████████████████████████████████████████████████████████████████████████████████████████████████████████████████| 23/23 [00:01<00:00, 14.25it/s]\n"
     ]
    },
    {
     "name": "stdout",
     "output_type": "stream",
     "text": [
      "Epoch [4], Loss: 0.1092\n"
     ]
    },
    {
     "name": "stderr",
     "output_type": "stream",
     "text": [
      "100%|████████████████████████████████████████████████████████████████████████████████████████████████████████████████████████████| 23/23 [00:01<00:00, 13.95it/s]\n"
     ]
    },
    {
     "name": "stdout",
     "output_type": "stream",
     "text": [
      "Epoch [5], Loss: 0.2368\n"
     ]
    },
    {
     "name": "stderr",
     "output_type": "stream",
     "text": [
      "100%|████████████████████████████████████████████████████████████████████████████████████████████████████████████████████████████| 23/23 [00:01<00:00, 13.10it/s]\n"
     ]
    },
    {
     "name": "stdout",
     "output_type": "stream",
     "text": [
      "Epoch [6], Loss: 0.0897\n"
     ]
    },
    {
     "name": "stderr",
     "output_type": "stream",
     "text": [
      "100%|████████████████████████████████████████████████████████████████████████████████████████████████████████████████████████████| 23/23 [00:01<00:00, 16.05it/s]\n"
     ]
    },
    {
     "name": "stdout",
     "output_type": "stream",
     "text": [
      "Epoch [7], Loss: 0.1280\n"
     ]
    },
    {
     "name": "stderr",
     "output_type": "stream",
     "text": [
      "100%|████████████████████████████████████████████████████████████████████████████████████████████████████████████████████████████| 23/23 [00:01<00:00, 12.89it/s]\n"
     ]
    },
    {
     "name": "stdout",
     "output_type": "stream",
     "text": [
      "Epoch [8], Loss: 0.0376\n"
     ]
    },
    {
     "name": "stderr",
     "output_type": "stream",
     "text": [
      "100%|████████████████████████████████████████████████████████████████████████████████████████████████████████████████████████████| 23/23 [00:01<00:00, 13.63it/s]\n"
     ]
    },
    {
     "name": "stdout",
     "output_type": "stream",
     "text": [
      "Epoch [9], Loss: 0.0297\n"
     ]
    },
    {
     "name": "stderr",
     "output_type": "stream",
     "text": [
      "100%|████████████████████████████████████████████████████████████████████████████████████████████████████████████████████████████| 23/23 [00:01<00:00, 12.28it/s]\n"
     ]
    },
    {
     "name": "stdout",
     "output_type": "stream",
     "text": [
      "Epoch [10], Loss: 0.0046\n"
     ]
    },
    {
     "name": "stderr",
     "output_type": "stream",
     "text": [
      "100%|████████████████████████████████████████████████████████████████████████████████████████████████████████████████████████████| 23/23 [00:01<00:00, 15.42it/s]\n"
     ]
    },
    {
     "name": "stdout",
     "output_type": "stream",
     "text": [
      "Epoch [11], Loss: 5.5877\n"
     ]
    },
    {
     "name": "stderr",
     "output_type": "stream",
     "text": [
      "100%|████████████████████████████████████████████████████████████████████████████████████████████████████████████████████████████| 23/23 [00:01<00:00, 15.09it/s]\n"
     ]
    },
    {
     "name": "stdout",
     "output_type": "stream",
     "text": [
      "Epoch [12], Loss: 0.0929\n"
     ]
    },
    {
     "name": "stderr",
     "output_type": "stream",
     "text": [
      "100%|████████████████████████████████████████████████████████████████████████████████████████████████████████████████████████████| 23/23 [00:01<00:00, 13.37it/s]\n"
     ]
    },
    {
     "name": "stdout",
     "output_type": "stream",
     "text": [
      "Epoch [13], Loss: 0.0345\n"
     ]
    },
    {
     "name": "stderr",
     "output_type": "stream",
     "text": [
      "100%|████████████████████████████████████████████████████████████████████████████████████████████████████████████████████████████| 23/23 [00:01<00:00, 14.24it/s]\n"
     ]
    },
    {
     "name": "stdout",
     "output_type": "stream",
     "text": [
      "Epoch [14], Loss: 0.2275\n"
     ]
    },
    {
     "name": "stderr",
     "output_type": "stream",
     "text": [
      "100%|████████████████████████████████████████████████████████████████████████████████████████████████████████████████████████████| 23/23 [00:01<00:00, 16.06it/s]\n"
     ]
    },
    {
     "name": "stdout",
     "output_type": "stream",
     "text": [
      "Epoch [15], Loss: 2.7412\n"
     ]
    },
    {
     "name": "stderr",
     "output_type": "stream",
     "text": [
      "100%|████████████████████████████████████████████████████████████████████████████████████████████████████████████████████████████| 23/23 [00:01<00:00, 13.33it/s]\n"
     ]
    },
    {
     "name": "stdout",
     "output_type": "stream",
     "text": [
      "Epoch [16], Loss: 0.1253\n"
     ]
    },
    {
     "name": "stderr",
     "output_type": "stream",
     "text": [
      "100%|████████████████████████████████████████████████████████████████████████████████████████████████████████████████████████████| 23/23 [00:01<00:00, 15.42it/s]\n"
     ]
    },
    {
     "name": "stdout",
     "output_type": "stream",
     "text": [
      "Epoch [17], Loss: 2.5736\n"
     ]
    },
    {
     "name": "stderr",
     "output_type": "stream",
     "text": [
      "100%|████████████████████████████████████████████████████████████████████████████████████████████████████████████████████████████| 23/23 [00:01<00:00, 12.62it/s]\n"
     ]
    },
    {
     "name": "stdout",
     "output_type": "stream",
     "text": [
      "Epoch [18], Loss: 0.1360\n"
     ]
    },
    {
     "name": "stderr",
     "output_type": "stream",
     "text": [
      "100%|████████████████████████████████████████████████████████████████████████████████████████████████████████████████████████████| 23/23 [00:01<00:00, 16.25it/s]\n"
     ]
    },
    {
     "name": "stdout",
     "output_type": "stream",
     "text": [
      "Epoch [19], Loss: 0.0403\n"
     ]
    },
    {
     "name": "stderr",
     "output_type": "stream",
     "text": [
      "100%|████████████████████████████████████████████████████████████████████████████████████████████████████████████████████████████| 23/23 [00:01<00:00, 15.53it/s]\n"
     ]
    },
    {
     "name": "stdout",
     "output_type": "stream",
     "text": [
      "Epoch [20], Loss: 3.3607\n"
     ]
    },
    {
     "name": "stderr",
     "output_type": "stream",
     "text": [
      "100%|████████████████████████████████████████████████████████████████████████████████████████████████████████████████████████████| 23/23 [00:01<00:00, 13.91it/s]\n"
     ]
    },
    {
     "name": "stdout",
     "output_type": "stream",
     "text": [
      "Epoch [21], Loss: 0.0388\n"
     ]
    },
    {
     "name": "stderr",
     "output_type": "stream",
     "text": [
      "100%|████████████████████████████████████████████████████████████████████████████████████████████████████████████████████████████| 23/23 [00:01<00:00, 12.52it/s]\n"
     ]
    },
    {
     "name": "stdout",
     "output_type": "stream",
     "text": [
      "Epoch [22], Loss: 0.0017\n"
     ]
    },
    {
     "name": "stderr",
     "output_type": "stream",
     "text": [
      "100%|████████████████████████████████████████████████████████████████████████████████████████████████████████████████████████████| 23/23 [00:01<00:00, 14.84it/s]\n"
     ]
    },
    {
     "name": "stdout",
     "output_type": "stream",
     "text": [
      "Epoch [23], Loss: 0.0286\n"
     ]
    },
    {
     "name": "stderr",
     "output_type": "stream",
     "text": [
      "100%|████████████████████████████████████████████████████████████████████████████████████████████████████████████████████████████| 23/23 [00:01<00:00, 15.97it/s]\n"
     ]
    },
    {
     "name": "stdout",
     "output_type": "stream",
     "text": [
      "Epoch [24], Loss: 4.6708\n"
     ]
    },
    {
     "name": "stderr",
     "output_type": "stream",
     "text": [
      "100%|████████████████████████████████████████████████████████████████████████████████████████████████████████████████████████████| 23/23 [00:01<00:00, 14.28it/s]\n"
     ]
    },
    {
     "name": "stdout",
     "output_type": "stream",
     "text": [
      "Epoch [25], Loss: 0.0097\n"
     ]
    },
    {
     "name": "stderr",
     "output_type": "stream",
     "text": [
      "100%|████████████████████████████████████████████████████████████████████████████████████████████████████████████████████████████| 23/23 [00:01<00:00, 11.58it/s]\n"
     ]
    },
    {
     "name": "stdout",
     "output_type": "stream",
     "text": [
      "Epoch [26], Loss: 0.0971\n"
     ]
    },
    {
     "name": "stderr",
     "output_type": "stream",
     "text": [
      "100%|████████████████████████████████████████████████████████████████████████████████████████████████████████████████████████████| 23/23 [00:01<00:00, 15.10it/s]\n"
     ]
    },
    {
     "name": "stdout",
     "output_type": "stream",
     "text": [
      "Epoch [27], Loss: 0.0782\n"
     ]
    },
    {
     "name": "stderr",
     "output_type": "stream",
     "text": [
      "100%|████████████████████████████████████████████████████████████████████████████████████████████████████████████████████████████| 23/23 [00:01<00:00, 15.07it/s]\n"
     ]
    },
    {
     "name": "stdout",
     "output_type": "stream",
     "text": [
      "Epoch [28], Loss: 0.0398\n"
     ]
    },
    {
     "name": "stderr",
     "output_type": "stream",
     "text": [
      "100%|████████████████████████████████████████████████████████████████████████████████████████████████████████████████████████████| 23/23 [00:01<00:00, 14.74it/s]\n"
     ]
    },
    {
     "name": "stdout",
     "output_type": "stream",
     "text": [
      "Epoch [29], Loss: 0.0246\n"
     ]
    },
    {
     "name": "stderr",
     "output_type": "stream",
     "text": [
      "100%|████████████████████████████████████████████████████████████████████████████████████████████████████████████████████████████| 23/23 [00:02<00:00, 11.40it/s]\n"
     ]
    },
    {
     "name": "stdout",
     "output_type": "stream",
     "text": [
      "Epoch [30], Loss: 0.0018\n"
     ]
    },
    {
     "name": "stderr",
     "output_type": "stream",
     "text": [
      "100%|████████████████████████████████████████████████████████████████████████████████████████████████████████████████████████████| 23/23 [00:01<00:00, 15.12it/s]\n"
     ]
    },
    {
     "name": "stdout",
     "output_type": "stream",
     "text": [
      "Epoch [31], Loss: 0.1286\n"
     ]
    },
    {
     "name": "stderr",
     "output_type": "stream",
     "text": [
      "100%|████████████████████████████████████████████████████████████████████████████████████████████████████████████████████████████| 23/23 [00:01<00:00, 15.85it/s]\n"
     ]
    },
    {
     "name": "stdout",
     "output_type": "stream",
     "text": [
      "Epoch [32], Loss: 0.2771\n"
     ]
    },
    {
     "name": "stderr",
     "output_type": "stream",
     "text": [
      "100%|████████████████████████████████████████████████████████████████████████████████████████████████████████████████████████████| 23/23 [00:01<00:00, 15.10it/s]\n"
     ]
    },
    {
     "name": "stdout",
     "output_type": "stream",
     "text": [
      "Epoch [33], Loss: 3.4493\n"
     ]
    },
    {
     "name": "stderr",
     "output_type": "stream",
     "text": [
      "100%|████████████████████████████████████████████████████████████████████████████████████████████████████████████████████████████| 23/23 [00:01<00:00, 14.22it/s]\n"
     ]
    },
    {
     "name": "stdout",
     "output_type": "stream",
     "text": [
      "Epoch [34], Loss: 0.0977\n"
     ]
    },
    {
     "name": "stderr",
     "output_type": "stream",
     "text": [
      "100%|████████████████████████████████████████████████████████████████████████████████████████████████████████████████████████████| 23/23 [00:01<00:00, 16.78it/s]\n"
     ]
    },
    {
     "name": "stdout",
     "output_type": "stream",
     "text": [
      "Epoch [35], Loss: 0.0298\n"
     ]
    },
    {
     "name": "stderr",
     "output_type": "stream",
     "text": [
      "100%|████████████████████████████████████████████████████████████████████████████████████████████████████████████████████████████| 23/23 [00:01<00:00, 15.74it/s]\n"
     ]
    },
    {
     "name": "stdout",
     "output_type": "stream",
     "text": [
      "Epoch [36], Loss: 4.4911\n"
     ]
    },
    {
     "name": "stderr",
     "output_type": "stream",
     "text": [
      "100%|████████████████████████████████████████████████████████████████████████████████████████████████████████████████████████████| 23/23 [00:01<00:00, 15.95it/s]\n"
     ]
    },
    {
     "name": "stdout",
     "output_type": "stream",
     "text": [
      "Epoch [37], Loss: 0.0160\n"
     ]
    },
    {
     "name": "stderr",
     "output_type": "stream",
     "text": [
      "100%|████████████████████████████████████████████████████████████████████████████████████████████████████████████████████████████| 23/23 [00:01<00:00, 13.71it/s]\n"
     ]
    },
    {
     "name": "stdout",
     "output_type": "stream",
     "text": [
      "Epoch [38], Loss: 0.0209\n"
     ]
    },
    {
     "name": "stderr",
     "output_type": "stream",
     "text": [
      "100%|████████████████████████████████████████████████████████████████████████████████████████████████████████████████████████████| 23/23 [00:01<00:00, 14.81it/s]\n"
     ]
    },
    {
     "name": "stdout",
     "output_type": "stream",
     "text": [
      "Epoch [39], Loss: 0.0004\n"
     ]
    },
    {
     "name": "stderr",
     "output_type": "stream",
     "text": [
      "100%|████████████████████████████████████████████████████████████████████████████████████████████████████████████████████████████| 23/23 [00:01<00:00, 16.38it/s]\n"
     ]
    },
    {
     "name": "stdout",
     "output_type": "stream",
     "text": [
      "Epoch [40], Loss: 0.0123\n"
     ]
    },
    {
     "name": "stderr",
     "output_type": "stream",
     "text": [
      "100%|████████████████████████████████████████████████████████████████████████████████████████████████████████████████████████████| 23/23 [00:01<00:00, 16.83it/s]\n"
     ]
    },
    {
     "name": "stdout",
     "output_type": "stream",
     "text": [
      "Epoch [41], Loss: 0.0346\n"
     ]
    },
    {
     "name": "stderr",
     "output_type": "stream",
     "text": [
      "100%|████████████████████████████████████████████████████████████████████████████████████████████████████████████████████████████| 23/23 [00:01<00:00, 16.64it/s]\n"
     ]
    },
    {
     "name": "stdout",
     "output_type": "stream",
     "text": [
      "Epoch [42], Loss: 3.1304\n"
     ]
    },
    {
     "name": "stderr",
     "output_type": "stream",
     "text": [
      "100%|████████████████████████████████████████████████████████████████████████████████████████████████████████████████████████████| 23/23 [00:01<00:00, 12.40it/s]\n"
     ]
    },
    {
     "name": "stdout",
     "output_type": "stream",
     "text": [
      "Epoch [43], Loss: 0.3148\n"
     ]
    },
    {
     "name": "stderr",
     "output_type": "stream",
     "text": [
      "100%|████████████████████████████████████████████████████████████████████████████████████████████████████████████████████████████| 23/23 [00:01<00:00, 15.27it/s]\n"
     ]
    },
    {
     "name": "stdout",
     "output_type": "stream",
     "text": [
      "Epoch [44], Loss: 0.1013\n"
     ]
    },
    {
     "name": "stderr",
     "output_type": "stream",
     "text": [
      "100%|████████████████████████████████████████████████████████████████████████████████████████████████████████████████████████████| 23/23 [00:01<00:00, 16.11it/s]\n"
     ]
    },
    {
     "name": "stdout",
     "output_type": "stream",
     "text": [
      "Epoch [45], Loss: 0.0110\n"
     ]
    },
    {
     "name": "stderr",
     "output_type": "stream",
     "text": [
      "100%|████████████████████████████████████████████████████████████████████████████████████████████████████████████████████████████| 23/23 [00:01<00:00, 15.46it/s]\n"
     ]
    },
    {
     "name": "stdout",
     "output_type": "stream",
     "text": [
      "Epoch [46], Loss: 0.0009\n"
     ]
    },
    {
     "name": "stderr",
     "output_type": "stream",
     "text": [
      "100%|████████████████████████████████████████████████████████████████████████████████████████████████████████████████████████████| 23/23 [00:01<00:00, 12.40it/s]\n"
     ]
    },
    {
     "name": "stdout",
     "output_type": "stream",
     "text": [
      "Epoch [47], Loss: 0.0026\n"
     ]
    },
    {
     "name": "stderr",
     "output_type": "stream",
     "text": [
      "100%|████████████████████████████████████████████████████████████████████████████████████████████████████████████████████████████| 23/23 [00:01<00:00, 13.77it/s]\n"
     ]
    },
    {
     "name": "stdout",
     "output_type": "stream",
     "text": [
      "Epoch [48], Loss: 0.0001\n"
     ]
    },
    {
     "name": "stderr",
     "output_type": "stream",
     "text": [
      "100%|████████████████████████████████████████████████████████████████████████████████████████████████████████████████████████████| 23/23 [00:01<00:00, 14.74it/s]\n"
     ]
    },
    {
     "name": "stdout",
     "output_type": "stream",
     "text": [
      "Epoch [49], Loss: 0.0487\n"
     ]
    },
    {
     "name": "stderr",
     "output_type": "stream",
     "text": [
      "100%|████████████████████████████████████████████████████████████████████████████████████████████████████████████████████████████| 23/23 [00:01<00:00, 15.73it/s]\n"
     ]
    },
    {
     "name": "stdout",
     "output_type": "stream",
     "text": [
      "Epoch [50], Loss: 5.2900\n"
     ]
    },
    {
     "name": "stderr",
     "output_type": "stream",
     "text": [
      "100%|████████████████████████████████████████████████████████████████████████████████████████████████████████████████████████████| 23/23 [00:01<00:00, 11.62it/s]\n"
     ]
    },
    {
     "name": "stdout",
     "output_type": "stream",
     "text": [
      "Epoch [51], Loss: 0.0044\n"
     ]
    },
    {
     "name": "stderr",
     "output_type": "stream",
     "text": [
      "100%|████████████████████████████████████████████████████████████████████████████████████████████████████████████████████████████| 23/23 [00:01<00:00, 13.24it/s]\n"
     ]
    },
    {
     "name": "stdout",
     "output_type": "stream",
     "text": [
      "Epoch [52], Loss: 0.0054\n"
     ]
    },
    {
     "name": "stderr",
     "output_type": "stream",
     "text": [
      "100%|████████████████████████████████████████████████████████████████████████████████████████████████████████████████████████████| 23/23 [00:01<00:00, 14.89it/s]\n"
     ]
    },
    {
     "name": "stdout",
     "output_type": "stream",
     "text": [
      "Epoch [53], Loss: 0.0026\n"
     ]
    },
    {
     "name": "stderr",
     "output_type": "stream",
     "text": [
      "100%|████████████████████████████████████████████████████████████████████████████████████████████████████████████████████████████| 23/23 [00:01<00:00, 15.93it/s]\n"
     ]
    },
    {
     "name": "stdout",
     "output_type": "stream",
     "text": [
      "Epoch [54], Loss: 0.0143\n"
     ]
    },
    {
     "name": "stderr",
     "output_type": "stream",
     "text": [
      "100%|████████████████████████████████████████████████████████████████████████████████████████████████████████████████████████████| 23/23 [00:01<00:00, 12.01it/s]\n"
     ]
    },
    {
     "name": "stdout",
     "output_type": "stream",
     "text": [
      "Epoch [55], Loss: 0.0018\n"
     ]
    },
    {
     "name": "stderr",
     "output_type": "stream",
     "text": [
      "100%|████████████████████████████████████████████████████████████████████████████████████████████████████████████████████████████| 23/23 [00:01<00:00, 14.22it/s]\n"
     ]
    },
    {
     "name": "stdout",
     "output_type": "stream",
     "text": [
      "Epoch [56], Loss: 4.6299\n"
     ]
    },
    {
     "name": "stderr",
     "output_type": "stream",
     "text": [
      "100%|████████████████████████████████████████████████████████████████████████████████████████████████████████████████████████████| 23/23 [00:01<00:00, 15.32it/s]\n"
     ]
    },
    {
     "name": "stdout",
     "output_type": "stream",
     "text": [
      "Epoch [57], Loss: 0.0475\n"
     ]
    },
    {
     "name": "stderr",
     "output_type": "stream",
     "text": [
      "100%|████████████████████████████████████████████████████████████████████████████████████████████████████████████████████████████| 23/23 [00:01<00:00, 15.36it/s]\n"
     ]
    },
    {
     "name": "stdout",
     "output_type": "stream",
     "text": [
      "Epoch [58], Loss: 0.0015\n"
     ]
    },
    {
     "name": "stderr",
     "output_type": "stream",
     "text": [
      "100%|████████████████████████████████████████████████████████████████████████████████████████████████████████████████████████████| 23/23 [00:01<00:00, 12.05it/s]\n"
     ]
    },
    {
     "name": "stdout",
     "output_type": "stream",
     "text": [
      "Epoch [59], Loss: 0.0133\n"
     ]
    },
    {
     "name": "stderr",
     "output_type": "stream",
     "text": [
      "100%|████████████████████████████████████████████████████████████████████████████████████████████████████████████████████████████| 23/23 [00:01<00:00, 13.22it/s]\n"
     ]
    },
    {
     "name": "stdout",
     "output_type": "stream",
     "text": [
      "Epoch [60], Loss: 0.0000\n"
     ]
    },
    {
     "name": "stderr",
     "output_type": "stream",
     "text": [
      "100%|████████████████████████████████████████████████████████████████████████████████████████████████████████████████████████████| 23/23 [00:01<00:00, 13.20it/s]\n"
     ]
    },
    {
     "name": "stdout",
     "output_type": "stream",
     "text": [
      "Epoch [61], Loss: 0.0003\n"
     ]
    },
    {
     "name": "stderr",
     "output_type": "stream",
     "text": [
      "100%|████████████████████████████████████████████████████████████████████████████████████████████████████████████████████████████| 23/23 [00:01<00:00, 12.55it/s]\n"
     ]
    },
    {
     "name": "stdout",
     "output_type": "stream",
     "text": [
      "Epoch [62], Loss: 0.0004\n"
     ]
    },
    {
     "name": "stderr",
     "output_type": "stream",
     "text": [
      "100%|████████████████████████████████████████████████████████████████████████████████████████████████████████████████████████████| 23/23 [00:01<00:00, 11.73it/s]\n"
     ]
    },
    {
     "name": "stdout",
     "output_type": "stream",
     "text": [
      "Epoch [63], Loss: 0.0001\n"
     ]
    },
    {
     "name": "stderr",
     "output_type": "stream",
     "text": [
      "100%|████████████████████████████████████████████████████████████████████████████████████████████████████████████████████████████| 23/23 [00:01<00:00, 14.56it/s]\n"
     ]
    },
    {
     "name": "stdout",
     "output_type": "stream",
     "text": [
      "Epoch [64], Loss: 6.8130\n"
     ]
    },
    {
     "name": "stderr",
     "output_type": "stream",
     "text": [
      "100%|████████████████████████████████████████████████████████████████████████████████████████████████████████████████████████████| 23/23 [00:01<00:00, 15.84it/s]\n"
     ]
    },
    {
     "name": "stdout",
     "output_type": "stream",
     "text": [
      "Epoch [65], Loss: 0.1667\n"
     ]
    },
    {
     "name": "stderr",
     "output_type": "stream",
     "text": [
      "100%|████████████████████████████████████████████████████████████████████████████████████████████████████████████████████████████| 23/23 [00:01<00:00, 15.80it/s]\n"
     ]
    },
    {
     "name": "stdout",
     "output_type": "stream",
     "text": [
      "Epoch [66], Loss: 0.0315\n"
     ]
    },
    {
     "name": "stderr",
     "output_type": "stream",
     "text": [
      "100%|████████████████████████████████████████████████████████████████████████████████████████████████████████████████████████████| 23/23 [00:01<00:00, 13.71it/s]\n"
     ]
    },
    {
     "name": "stdout",
     "output_type": "stream",
     "text": [
      "Epoch [67], Loss: 0.0341\n"
     ]
    },
    {
     "name": "stderr",
     "output_type": "stream",
     "text": [
      "100%|████████████████████████████████████████████████████████████████████████████████████████████████████████████████████████████| 23/23 [00:01<00:00, 14.72it/s]\n"
     ]
    },
    {
     "name": "stdout",
     "output_type": "stream",
     "text": [
      "Epoch [68], Loss: 0.0112\n"
     ]
    },
    {
     "name": "stderr",
     "output_type": "stream",
     "text": [
      "100%|████████████████████████████████████████████████████████████████████████████████████████████████████████████████████████████| 23/23 [00:01<00:00, 14.96it/s]\n"
     ]
    },
    {
     "name": "stdout",
     "output_type": "stream",
     "text": [
      "Epoch [69], Loss: 0.0040\n"
     ]
    },
    {
     "name": "stderr",
     "output_type": "stream",
     "text": [
      "100%|████████████████████████████████████████████████████████████████████████████████████████████████████████████████████████████| 23/23 [00:01<00:00, 15.55it/s]\n"
     ]
    },
    {
     "name": "stdout",
     "output_type": "stream",
     "text": [
      "Epoch [70], Loss: 0.0000\n"
     ]
    },
    {
     "name": "stderr",
     "output_type": "stream",
     "text": [
      "100%|████████████████████████████████████████████████████████████████████████████████████████████████████████████████████████████| 23/23 [00:01<00:00, 13.01it/s]\n"
     ]
    },
    {
     "name": "stdout",
     "output_type": "stream",
     "text": [
      "Epoch [71], Loss: 0.0014\n"
     ]
    },
    {
     "name": "stderr",
     "output_type": "stream",
     "text": [
      "100%|████████████████████████████████████████████████████████████████████████████████████████████████████████████████████████████| 23/23 [00:01<00:00, 13.58it/s]\n"
     ]
    },
    {
     "name": "stdout",
     "output_type": "stream",
     "text": [
      "Epoch [72], Loss: 0.0126\n"
     ]
    },
    {
     "name": "stderr",
     "output_type": "stream",
     "text": [
      "100%|████████████████████████████████████████████████████████████████████████████████████████████████████████████████████████████| 23/23 [00:01<00:00, 14.89it/s]\n"
     ]
    },
    {
     "name": "stdout",
     "output_type": "stream",
     "text": [
      "Epoch [73], Loss: 4.1292\n"
     ]
    },
    {
     "name": "stderr",
     "output_type": "stream",
     "text": [
      "100%|████████████████████████████████████████████████████████████████████████████████████████████████████████████████████████████| 23/23 [00:01<00:00, 14.78it/s]\n"
     ]
    },
    {
     "name": "stdout",
     "output_type": "stream",
     "text": [
      "Epoch [74], Loss: 0.0435\n"
     ]
    },
    {
     "name": "stderr",
     "output_type": "stream",
     "text": [
      "100%|████████████████████████████████████████████████████████████████████████████████████████████████████████████████████████████| 23/23 [00:01<00:00, 13.10it/s]\n"
     ]
    },
    {
     "name": "stdout",
     "output_type": "stream",
     "text": [
      "Epoch [75], Loss: 0.0327\n"
     ]
    },
    {
     "name": "stderr",
     "output_type": "stream",
     "text": [
      "100%|████████████████████████████████████████████████████████████████████████████████████████████████████████████████████████████| 23/23 [00:01<00:00, 14.56it/s]\n"
     ]
    },
    {
     "name": "stdout",
     "output_type": "stream",
     "text": [
      "Epoch [76], Loss: 0.0016\n"
     ]
    },
    {
     "name": "stderr",
     "output_type": "stream",
     "text": [
      "100%|████████████████████████████████████████████████████████████████████████████████████████████████████████████████████████████| 23/23 [00:01<00:00, 15.03it/s]\n"
     ]
    },
    {
     "name": "stdout",
     "output_type": "stream",
     "text": [
      "Epoch [77], Loss: 0.0267\n"
     ]
    },
    {
     "name": "stderr",
     "output_type": "stream",
     "text": [
      "100%|████████████████████████████████████████████████████████████████████████████████████████████████████████████████████████████| 23/23 [00:01<00:00, 16.12it/s]\n"
     ]
    },
    {
     "name": "stdout",
     "output_type": "stream",
     "text": [
      "Epoch [78], Loss: 0.0038\n"
     ]
    },
    {
     "name": "stderr",
     "output_type": "stream",
     "text": [
      "100%|████████████████████████████████████████████████████████████████████████████████████████████████████████████████████████████| 23/23 [00:01<00:00, 15.38it/s]\n"
     ]
    },
    {
     "name": "stdout",
     "output_type": "stream",
     "text": [
      "Epoch [79], Loss: 0.0838\n"
     ]
    },
    {
     "name": "stderr",
     "output_type": "stream",
     "text": [
      "100%|████████████████████████████████████████████████████████████████████████████████████████████████████████████████████████████| 23/23 [00:01<00:00, 12.78it/s]\n"
     ]
    },
    {
     "name": "stdout",
     "output_type": "stream",
     "text": [
      "Epoch [80], Loss: 0.0158\n"
     ]
    },
    {
     "name": "stderr",
     "output_type": "stream",
     "text": [
      "100%|████████████████████████████████████████████████████████████████████████████████████████████████████████████████████████████| 23/23 [00:01<00:00, 16.13it/s]\n"
     ]
    },
    {
     "name": "stdout",
     "output_type": "stream",
     "text": [
      "Epoch [81], Loss: 0.0019\n"
     ]
    },
    {
     "name": "stderr",
     "output_type": "stream",
     "text": [
      "100%|████████████████████████████████████████████████████████████████████████████████████████████████████████████████████████████| 23/23 [00:01<00:00, 15.83it/s]\n"
     ]
    },
    {
     "name": "stdout",
     "output_type": "stream",
     "text": [
      "Epoch [82], Loss: 0.0244\n"
     ]
    },
    {
     "name": "stderr",
     "output_type": "stream",
     "text": [
      "100%|████████████████████████████████████████████████████████████████████████████████████████████████████████████████████████████| 23/23 [00:01<00:00, 14.90it/s]\n"
     ]
    },
    {
     "name": "stdout",
     "output_type": "stream",
     "text": [
      "Epoch [83], Loss: 0.0029\n"
     ]
    },
    {
     "name": "stderr",
     "output_type": "stream",
     "text": [
      "100%|████████████████████████████████████████████████████████████████████████████████████████████████████████████████████████████| 23/23 [00:01<00:00, 14.75it/s]\n"
     ]
    },
    {
     "name": "stdout",
     "output_type": "stream",
     "text": [
      "Epoch [84], Loss: 8.0579\n"
     ]
    },
    {
     "name": "stderr",
     "output_type": "stream",
     "text": [
      "100%|████████████████████████████████████████████████████████████████████████████████████████████████████████████████████████████| 23/23 [00:01<00:00, 15.67it/s]\n"
     ]
    },
    {
     "name": "stdout",
     "output_type": "stream",
     "text": [
      "Epoch [85], Loss: 0.0406\n"
     ]
    },
    {
     "name": "stderr",
     "output_type": "stream",
     "text": [
      "100%|████████████████████████████████████████████████████████████████████████████████████████████████████████████████████████████| 23/23 [00:01<00:00, 15.91it/s]\n"
     ]
    },
    {
     "name": "stdout",
     "output_type": "stream",
     "text": [
      "Epoch [86], Loss: 0.0950\n"
     ]
    },
    {
     "name": "stderr",
     "output_type": "stream",
     "text": [
      "100%|████████████████████████████████████████████████████████████████████████████████████████████████████████████████████████████| 23/23 [00:01<00:00, 15.09it/s]\n"
     ]
    },
    {
     "name": "stdout",
     "output_type": "stream",
     "text": [
      "Epoch [87], Loss: 0.0005\n"
     ]
    },
    {
     "name": "stderr",
     "output_type": "stream",
     "text": [
      "100%|████████████████████████████████████████████████████████████████████████████████████████████████████████████████████████████| 23/23 [00:01<00:00, 11.79it/s]\n"
     ]
    },
    {
     "name": "stdout",
     "output_type": "stream",
     "text": [
      "Epoch [88], Loss: 0.0156\n"
     ]
    },
    {
     "name": "stderr",
     "output_type": "stream",
     "text": [
      "100%|████████████████████████████████████████████████████████████████████████████████████████████████████████████████████████████| 23/23 [00:01<00:00, 14.01it/s]\n"
     ]
    },
    {
     "name": "stdout",
     "output_type": "stream",
     "text": [
      "Epoch [89], Loss: 0.0060\n"
     ]
    },
    {
     "name": "stderr",
     "output_type": "stream",
     "text": [
      "100%|████████████████████████████████████████████████████████████████████████████████████████████████████████████████████████████| 23/23 [00:01<00:00, 15.94it/s]\n"
     ]
    },
    {
     "name": "stdout",
     "output_type": "stream",
     "text": [
      "Epoch [90], Loss: 0.0742\n"
     ]
    },
    {
     "name": "stderr",
     "output_type": "stream",
     "text": [
      "100%|████████████████████████████████████████████████████████████████████████████████████████████████████████████████████████████| 23/23 [00:01<00:00, 15.79it/s]\n"
     ]
    },
    {
     "name": "stdout",
     "output_type": "stream",
     "text": [
      "Epoch [91], Loss: 0.0009\n"
     ]
    },
    {
     "name": "stderr",
     "output_type": "stream",
     "text": [
      "100%|████████████████████████████████████████████████████████████████████████████████████████████████████████████████████████████| 23/23 [00:01<00:00, 12.87it/s]\n"
     ]
    },
    {
     "name": "stdout",
     "output_type": "stream",
     "text": [
      "Epoch [92], Loss: 8.3304\n"
     ]
    },
    {
     "name": "stderr",
     "output_type": "stream",
     "text": [
      "100%|████████████████████████████████████████████████████████████████████████████████████████████████████████████████████████████| 23/23 [00:01<00:00, 15.29it/s]\n"
     ]
    },
    {
     "name": "stdout",
     "output_type": "stream",
     "text": [
      "Epoch [93], Loss: 0.0197\n"
     ]
    },
    {
     "name": "stderr",
     "output_type": "stream",
     "text": [
      "100%|████████████████████████████████████████████████████████████████████████████████████████████████████████████████████████████| 23/23 [00:01<00:00, 16.30it/s]\n"
     ]
    },
    {
     "name": "stdout",
     "output_type": "stream",
     "text": [
      "Epoch [94], Loss: 0.0742\n"
     ]
    },
    {
     "name": "stderr",
     "output_type": "stream",
     "text": [
      "100%|████████████████████████████████████████████████████████████████████████████████████████████████████████████████████████████| 23/23 [00:01<00:00, 15.31it/s]\n"
     ]
    },
    {
     "name": "stdout",
     "output_type": "stream",
     "text": [
      "Epoch [95], Loss: 0.0183\n"
     ]
    },
    {
     "name": "stderr",
     "output_type": "stream",
     "text": [
      "100%|████████████████████████████████████████████████████████████████████████████████████████████████████████████████████████████| 23/23 [00:01<00:00, 15.30it/s]\n"
     ]
    },
    {
     "name": "stdout",
     "output_type": "stream",
     "text": [
      "Epoch [96], Loss: 0.1558\n"
     ]
    },
    {
     "name": "stderr",
     "output_type": "stream",
     "text": [
      "100%|████████████████████████████████████████████████████████████████████████████████████████████████████████████████████████████| 23/23 [00:01<00:00, 13.28it/s]\n"
     ]
    },
    {
     "name": "stdout",
     "output_type": "stream",
     "text": [
      "Epoch [97], Loss: 0.1703\n"
     ]
    },
    {
     "name": "stderr",
     "output_type": "stream",
     "text": [
      "100%|████████████████████████████████████████████████████████████████████████████████████████████████████████████████████████████| 23/23 [00:01<00:00, 15.24it/s]\n"
     ]
    },
    {
     "name": "stdout",
     "output_type": "stream",
     "text": [
      "Epoch [98], Loss: 0.0001\n"
     ]
    },
    {
     "name": "stderr",
     "output_type": "stream",
     "text": [
      "100%|████████████████████████████████████████████████████████████████████████████████████████████████████████████████████████████| 23/23 [00:01<00:00, 15.98it/s]\n"
     ]
    },
    {
     "name": "stdout",
     "output_type": "stream",
     "text": [
      "Epoch [99], Loss: 0.0014\n"
     ]
    },
    {
     "name": "stderr",
     "output_type": "stream",
     "text": [
      "100%|████████████████████████████████████████████████████████████████████████████████████████████████████████████████████████████| 23/23 [00:01<00:00, 15.75it/s]\n"
     ]
    },
    {
     "name": "stdout",
     "output_type": "stream",
     "text": [
      "Epoch [100], Loss: 0.0027\n",
      "Training complete and model saved.\n"
     ]
    }
   ],
   "source": [
    "from torch.utils.data import DataLoader\n",
    "\n",
    "dataset = DominanceDataset(images, imgs)\n",
    "dataloader = DataLoader(dataset, batch_size=4, shuffle=True)\n",
    "\n",
    "device = torch.device('cuda' if torch.cuda.is_available() else 'cpu')\n",
    "\n",
    "model = SiameseResNet()\n",
    "model = model.to(device)\n",
    "\n",
    "criterion = torch.nn.BCEWithLogitsLoss()\n",
    "optimizer = torch.optim.Adam(model.parameters(), lr=0.001)\n",
    "\n",
    "for epoch in range(100):\n",
    "    for imgs_left, imgs_right, labels in tqdm(dataloader):\n",
    "        imgs_left = imgs_left.to(device)\n",
    "        imgs_right = imgs_right.to(device)\n",
    "        labels = labels.to(device).float().unsqueeze(1) \n",
    "\n",
    "        outputs = model(imgs_left, imgs_right)\n",
    "        loss = criterion(outputs, labels)\n",
    "\n",
    "        optimizer.zero_grad()\n",
    "        loss.backward()\n",
    "        optimizer.step()\n",
    "\n",
    "    print(f'Epoch [{epoch+1}], Loss: {loss.item():.4f}')\n",
    "\n",
    "torch.save(model.state_dict(), 'model.pth')\n",
    "print(\"Training complete and model saved.\")"
   ]
  },
  {
   "cell_type": "code",
   "execution_count": null,
   "id": "f53f91cb-772b-4bba-93f4-6ac70fe238f0",
   "metadata": {},
   "outputs": [],
   "source": []
  }
 ],
 "metadata": {
  "kernelspec": {
   "display_name": "Python 3 (ipykernel)",
   "language": "python",
   "name": "python3"
  },
  "language_info": {
   "codemirror_mode": {
    "name": "ipython",
    "version": 3
   },
   "file_extension": ".py",
   "mimetype": "text/x-python",
   "name": "python",
   "nbconvert_exporter": "python",
   "pygments_lexer": "ipython3",
   "version": "3.10.13"
  }
 },
 "nbformat": 4,
 "nbformat_minor": 5
}
