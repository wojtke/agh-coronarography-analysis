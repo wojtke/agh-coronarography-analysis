{
 "cells": [
  {
   "cell_type": "code",
   "execution_count": 1,
   "id": "7f50e2aa-3f2d-4ba3-a6df-e2db9d07c51c",
   "metadata": {},
   "outputs": [
    {
     "data": {
      "text/plain": [
       "<torch.autograd.grad_mode.set_grad_enabled at 0x7f16cd200310>"
      ]
     },
     "execution_count": 1,
     "metadata": {},
     "output_type": "execute_result"
    }
   ],
   "source": [
    "import torch\n",
    "from torch.utils.data import DataLoader\n",
    "from sklearn.metrics import classification_report, confusion_matrix\n",
    "import numpy as np\n",
    "\n",
    "from utils import read_images\n",
    "from datasets import SimpleSeriesSelectionDataset\n",
    "from models import TemporalResNet\n",
    "\n",
    "torch.set_grad_enabled(False)"
   ]
  },
  {
   "cell_type": "code",
   "execution_count": 2,
   "id": "f7032b88-3310-4fb8-ad56-9561b2609290",
   "metadata": {},
   "outputs": [
    {
     "name": "stderr",
     "output_type": "stream",
     "text": [
      "100%|██████████████████████████████████████████████████████████████████████████████████████████████████████████████████████████| 367/367 [00:45<00:00,  8.14it/s]\n"
     ]
    }
   ],
   "source": [
    "model = TemporalResNet()\n",
    "model.load_state_dict(torch.load('series_selection.pth'))\n",
    "model.eval()\n",
    "\n",
    "images = read_images(ids=\"test\")\n",
    "test_dataset = SimpleSeriesSelectionDataset(images, split=\"test\")"
   ]
  },
  {
   "cell_type": "code",
   "execution_count": 4,
   "id": "f5ab7cb2-6876-4f79-b075-0bb5db0517f0",
   "metadata": {},
   "outputs": [
    {
     "name": "stdout",
     "output_type": "stream",
     "text": [
      "Classification Report:\n",
      "              precision    recall  f1-score   support\n",
      "\n",
      "         0.0       0.81      0.82      0.81       267\n",
      "         1.0       0.48      0.47      0.47        96\n",
      "\n",
      "    accuracy                           0.72       363\n",
      "   macro avg       0.64      0.64      0.64       363\n",
      "weighted avg       0.72      0.72      0.72       363\n",
      "\n",
      "Confusion Matrix:\n",
      "[[218  49]\n",
      " [ 51  45]]\n"
     ]
    }
   ],
   "source": [
    "test_loader = DataLoader(test_dataset, batch_size=64, shuffle=False)\n",
    "\n",
    "all_preds = []\n",
    "all_labels = []\n",
    "\n",
    "for images, labels in test_loader:\n",
    "    preds = model(images) > 0\n",
    "    all_preds.extend(preds.cpu().numpy())\n",
    "    all_labels.extend(labels.cpu().numpy())\n",
    "\n",
    "report = classification_report(all_labels, all_preds)\n",
    "matrix = confusion_matrix(all_labels, all_preds)\n",
    "\n",
    "print(\"Classification Report:\")\n",
    "print(report)\n",
    "print(\"Confusion Matrix:\")\n",
    "print(matrix)\n"
   ]
  },
  {
   "cell_type": "code",
   "execution_count": null,
   "id": "9b4d131e-abf2-445d-9274-4bc12ed1daa1",
   "metadata": {},
   "outputs": [],
   "source": []
  }
 ],
 "metadata": {
  "kernelspec": {
   "display_name": "Python 3 (ipykernel)",
   "language": "python",
   "name": "python3"
  },
  "language_info": {
   "codemirror_mode": {
    "name": "ipython",
    "version": 3
   },
   "file_extension": ".py",
   "mimetype": "text/x-python",
   "name": "python",
   "nbconvert_exporter": "python",
   "pygments_lexer": "ipython3",
   "version": "3.10.13"
  }
 },
 "nbformat": 4,
 "nbformat_minor": 5
}
