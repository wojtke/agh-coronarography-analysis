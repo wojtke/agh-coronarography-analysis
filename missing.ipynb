{
 "cells": [
  {
   "cell_type": "code",
   "execution_count": 49,
   "id": "1148246e-2225-4e85-b329-f45931fe4d47",
   "metadata": {},
   "outputs": [],
   "source": [
    "import pandas as pd\n",
    "import os"
   ]
  },
  {
   "cell_type": "code",
   "execution_count": 50,
   "id": "ee4a75cc-9b37-45f3-8f42-115767beae44",
   "metadata": {},
   "outputs": [
    {
     "data": {
      "text/plain": [
       "1664"
      ]
     },
     "execution_count": 50,
     "metadata": {},
     "output_type": "execute_result"
    }
   ],
   "source": [
    "dcm_files = []\n",
    "dcm_files += os.listdir(\"data/frame_selection/dicoms/\")\n",
    "dcm_files += os.listdir(\"data/series_selection/accepted/dicoms/\")\n",
    "dcm_files += os.listdir(\"data/series_selection/rejected/dicoms/\")\n",
    "\n",
    "dcm_files = [f for f in dcm_files if f.endswith(\".dcm\")]\n",
    "dcm_ids = [f.replace(\".dcm\", \"\") for f in dcm_files]\n",
    "dcm_ids = set(dcm_ids)\n",
    "len(dcm_ids)"
   ]
  },
  {
   "cell_type": "code",
   "execution_count": 51,
   "id": "a203d43b-e8f6-4411-bd46-5fc1c284b7d6",
   "metadata": {},
   "outputs": [
    {
     "data": {
      "text/plain": [
       "604"
      ]
     },
     "execution_count": 51,
     "metadata": {},
     "output_type": "execute_result"
    }
   ],
   "source": [
    "csv_ids = set()\n",
    "\n",
    "df = pd.read_csv(\"data/v2/imagefeedback.csv\", sep=\";\")\n",
    "csv_ids.update(pd.unique(df[\"IMAGE_ID\"]))\n",
    "\n",
    "df = pd.read_csv(\"data/series_selection/accepted.csv\", sep=\";\")\n",
    "csv_ids.update(pd.unique(df[\"IMAGE_ID\"]))\n",
    "\n",
    "df = pd.read_csv(\"data/frame_selection/dataset.csv\")\n",
    "csv_ids.update(pd.unique(df[\"image_id\"]))\n",
    "\n",
    "df = pd.read_csv(\"data/v2/framerejectionfeedback.csv\")\n",
    "csv_ids.update(pd.unique(df[\"IMAGE_ID\"]))\n",
    "\n",
    "len(csv_ids)"
   ]
  },
  {
   "cell_type": "code",
   "execution_count": 54,
   "id": "bfe9eec5-de65-4363-84a7-3bd2205af41f",
   "metadata": {},
   "outputs": [
    {
     "name": "stdout",
     "output_type": "stream",
     "text": [
      "13c2ur549vohc0jat30teqb001\n",
      "13c2ur549vohc0jau2kmf1eiik1\n",
      "13c2ur549vohc0jau2mb926kuj1\n",
      "131aedfhs6pnf1fvtvp49jvp6ikmesh722\n",
      "13c2ur5452xb62wphb959tewknprozrz\n",
      "13c2ur549vohc0jau2mtw2ez991\n",
      "13c2ur5452xb62wphb959tewknprp36e\n",
      "13c2ur549vohc0jau2mtx2ezq61\n",
      "131aedfhs6pnf1fvtvp49mja0uu4wo3522\n",
      "131aedfhs6pnf1fvtvp49jwoajvsvw6722\n",
      "13c2ur549vohc0jau2mb826kqm2\n",
      "131aedfhs6pnf1fvtvp49mffrym7xykj22\n",
      "12aw4ack71831bocuf5j3gru620taw793ic\n",
      "13c2ur549vohc0jat31ss16gsg2\n",
      "131aedfhs6pnf1fvtvp493b3tui4y3s122\n",
      "13c2ur549vohc0jau2mb926kwp1\n",
      "13c2ur549vohc0jat2wqk9u4p1\n",
      "13c2ur549vohc0jau2kmf1eif31\n",
      "131aedfhs6pnf1fvtvp49juwu7vihdbv22\n",
      "13c2ur549vohc0jau2mb826kst1\n",
      "13c2ur549vohc0jat30teqatx1\n",
      "13c2ur549vohc0jau2kmf1eikb1\n",
      "13c2ur549vohc0jat31ss16gum1\n",
      "13c2ur549vohc0jat319vxvpa2\n",
      "131aedfhs6pnf1fvtvp49mlbqwqy6eyr22\n",
      "13c2ur549vohc0jau2mtx2ezfc1\n",
      "13c2ur549vohc0jat30teqb891\n",
      "13c2ur549vohc0jau2mtx2ezle1\n",
      "13c2ur549vohc0jat2wqi9szw1\n",
      "13c2ur549vohc0jat31ss16hbk1\n",
      "131aedfhs6pnf1fvtvp49mhdb2k0lbbz22\n",
      "13c2ur549vohc0jau2kmf1eib71\n",
      "13c2ur549vohc0jat30teqaqg1\n",
      "13c2ur549vohc0jat329r1efjt2\n",
      "13c2ur549vohc0jau2fznoou91\n",
      "13c2ur549vohc0jau2fzmooom1\n",
      "13c2ur549vohc0jat319wxw361\n",
      "13c2ur549vohc0jat30teqaoa1\n",
      "131aedfhs6pnf1fvtvp49jvp6iigk1jz22\n",
      "13c2ur549vohc0jau2mtx2ezo01\n",
      "131aedfhs6pnf1fvtvp49mldwdylcx6022\n",
      "13c2ur549vohc0jau2etp523k1\n",
      "131aedfhs6pnf1fvtvp49jxuh4utq1jr22\n",
      "13c2ur549vohc0jau2kmf1eiha1\n",
      "13c2ur549vohc0jau2fznooxa1\n",
      "13c2ur5452xb62wphb959tewknprozmh\n",
      "13c2ur549vohc0jau2mtw2ez682\n",
      "13c2ur549vohc0jau2etp51t51\n",
      "13c2ur549vohc0jau2eto51j52\n",
      "131aedfhs6pnf1fvtvp49mldwdxbr9mm22\n",
      "131aedfhs6pnf1fvtvp49jvp6ihdhgz922\n",
      "12nc2fo32bddqwoyhtlmwecxrf3rzr1ft39\n",
      "13c2ur549vohc0jat30tdqam42\n"
     ]
    }
   ],
   "source": [
    "print(\"\\n\".join(csv_ids - dcm_ids))"
   ]
  },
  {
   "cell_type": "code",
   "execution_count": null,
   "id": "59562da8-2c88-48c4-b675-786528afe493",
   "metadata": {},
   "outputs": [],
   "source": []
  }
 ],
 "metadata": {
  "kernelspec": {
   "display_name": "Python 3 (ipykernel)",
   "language": "python",
   "name": "python3"
  },
  "language_info": {
   "codemirror_mode": {
    "name": "ipython",
    "version": 3
   },
   "file_extension": ".py",
   "mimetype": "text/x-python",
   "name": "python",
   "nbconvert_exporter": "python",
   "pygments_lexer": "ipython3",
   "version": "3.10.13"
  }
 },
 "nbformat": 4,
 "nbformat_minor": 5
}
