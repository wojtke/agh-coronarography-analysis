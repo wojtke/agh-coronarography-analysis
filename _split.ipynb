{
 "cells": [
  {
   "cell_type": "code",
   "execution_count": 2,
   "id": "b02227be-8e61-4bae-b7b1-865a7f928205",
   "metadata": {},
   "outputs": [],
   "source": [
    "import pandas as pd\n",
    "import os\n",
    "from sklearn.model_selection import train_test_split"
   ]
  },
  {
   "cell_type": "code",
   "execution_count": 3,
   "id": "12d8858a-bbc9-42d9-93b8-2ac7f41962bb",
   "metadata": {
    "scrolled": true
   },
   "outputs": [],
   "source": [
    "studies = pd.read_csv(\"data/study.csv\").set_index(\"ID\")\n",
    "images = pd.read_csv(\"data/image.csv\").set_index(\"ID\")"
   ]
  },
  {
   "cell_type": "code",
   "execution_count": 17,
   "id": "cbdc86b2-27fa-4b4b-b6a8-616a25e7fbb6",
   "metadata": {},
   "outputs": [],
   "source": [
    "\n",
    "dicoms = [f for f in os.listdir(\"data/dicoms/\") if f.endswith(\".dcm\")]\n",
    "dicom_ids = [f.replace(\".dcm\", \"\") for f in dicoms]\n",
    "img_df = pd.read_csv(\"data/image.csv\")\n",
    "img_df = img_df[img_df.ID.isin(dicom_ids)]\n",
    "\n",
    "studies = studies[studies.index.isin(img_df.STUDY_ID.unique())]\n",
    "images = images[images.index.isin(dicom_ids)]"
   ]
  },
  {
   "cell_type": "code",
   "execution_count": 19,
   "id": "184b43dd-314d-44fe-8260-7e42a56d1827",
   "metadata": {},
   "outputs": [
    {
     "name": "stdout",
     "output_type": "stream",
     "text": [
      "Train studies: 217\n",
      "Train images: 1369\n",
      "Test studies: 55\n",
      "Test images: 295\n"
     ]
    }
   ],
   "source": [
    "train_studies, test_studies = train_test_split(\n",
    "    studies.index, \n",
    "    test_size=0.2, \n",
    "    stratify=studies[\"DOMINANCE\"].fillna(-1),\n",
    "    random_state=0\n",
    ")\n",
    "test_images = images[images.STUDY_ID.isin(test_studies)].index\n",
    "\n",
    "print(\"Train studies:\", len(train_studies))\n",
    "print(\"Train images:\", len(dicom_ids) - len(test_images))\n",
    "print(\"Test studies:\", len(test_studies))\n",
    "print(\"Test images:\", len(test_images))"
   ]
  },
  {
   "cell_type": "code",
   "execution_count": 25,
   "id": "71915bec-3303-40e6-a466-b84c3a95c3d1",
   "metadata": {},
   "outputs": [],
   "source": [
    "pd.DataFrame(test_images).to_csv(\"testimgs.csv\", index=False)\n",
    "pd.DataFrame(test_studies).to_csv(\"teststudies.csv\", index=False)"
   ]
  },
  {
   "cell_type": "code",
   "execution_count": null,
   "id": "da409544-ad3b-4235-927b-6808bcf8fdd1",
   "metadata": {},
   "outputs": [],
   "source": []
  }
 ],
 "metadata": {
  "kernelspec": {
   "display_name": "med",
   "language": "python",
   "name": "med"
  },
  "language_info": {
   "codemirror_mode": {
    "name": "ipython",
    "version": 3
   },
   "file_extension": ".py",
   "mimetype": "text/x-python",
   "name": "python",
   "nbconvert_exporter": "python",
   "pygments_lexer": "ipython3",
   "version": "3.10.14"
  }
 },
 "nbformat": 4,
 "nbformat_minor": 5
}
