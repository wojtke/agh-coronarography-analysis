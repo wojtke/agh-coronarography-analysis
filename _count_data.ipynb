{
 "cells": [
  {
   "cell_type": "code",
   "execution_count": 15,
   "id": "c893f3e4-7e83-4cc7-85a6-5c5986e42ef6",
   "metadata": {},
   "outputs": [],
   "source": [
    "import os\n",
    "import pandas as pd"
   ]
  },
  {
   "cell_type": "code",
   "execution_count": 12,
   "id": "1ea5469b-669e-4113-84aa-c7558c17008b",
   "metadata": {},
   "outputs": [
    {
     "data": {
      "text/plain": [
       "1664"
      ]
     },
     "execution_count": 12,
     "metadata": {},
     "output_type": "execute_result"
    }
   ],
   "source": [
    "# total num of dicoms we have\n",
    "\n",
    "dicoms = [f for f in os.listdir(\"data/dicoms/\") if f.endswith(\".dcm\")]\n",
    "len(dicoms) "
   ]
  },
  {
   "cell_type": "code",
   "execution_count": 26,
   "id": "de895279-f83d-4e90-ae4b-eb14955dc6d5",
   "metadata": {},
   "outputs": [
    {
     "data": {
      "text/plain": [
       "272"
      ]
     },
     "execution_count": 26,
     "metadata": {},
     "output_type": "execute_result"
    }
   ],
   "source": [
    "# total num of studies we have\n",
    "\n",
    "dicom_ids = [f.replace(\".dcm\", \"\") for f in dicoms]\n",
    "img_df = pd.read_csv(\"data/image.csv\")\n",
    "img_df = img_df[img_df.ID.isin(dicom_ids)]\n",
    "len(img_df.STUDY_ID.unique())"
   ]
  },
  {
   "cell_type": "code",
   "execution_count": 42,
   "id": "e2f1c3c3-d233-4d5a-b6ba-473dbc47fd1c",
   "metadata": {},
   "outputs": [
    {
     "data": {
      "text/plain": [
       "551"
      ]
     },
     "execution_count": 42,
     "metadata": {},
     "output_type": "execute_result"
    }
   ],
   "source": [
    "# how many imgs are accepted\n",
    "\n",
    "accepted_imgs = pd.read_csv(\"data/series_selection_accepted.csv\", sep=\";\")\n",
    "accepted_imgs = accepted_imgs[accepted_imgs.IMAGE_ID.isin(dicom_ids)]\n",
    "accepted_imgs = accepted_imgs.IMAGE_ID.unique()\n",
    "len(accepted_imgs)"
   ]
  },
  {
   "cell_type": "code",
   "execution_count": 43,
   "id": "5df12227-16a1-4bc9-be6a-8e264668cb29",
   "metadata": {},
   "outputs": [
    {
     "data": {
      "text/plain": [
       "1212"
      ]
     },
     "execution_count": 43,
     "metadata": {},
     "output_type": "execute_result"
    }
   ],
   "source": [
    "# how many imgs are accepted\n",
    "\n",
    "rejected_imgs = pd.read_csv(\"data/series_selection_rejected.csv\", sep=\";\")\n",
    "rejected_imgs = rejected_imgs[rejected_imgs.IMAGE_ID.isin(dicom_ids)]\n",
    "rejected_imgs = rejected_imgs.IMAGE_ID.unique()\n",
    "len(rejected_imgs)"
   ]
  },
  {
   "cell_type": "code",
   "execution_count": 44,
   "id": "cbcdc2f5-f2d1-49d5-94a2-8cfab42975c4",
   "metadata": {},
   "outputs": [
    {
     "data": {
      "text/plain": [
       "99"
      ]
     },
     "execution_count": 44,
     "metadata": {},
     "output_type": "execute_result"
    }
   ],
   "source": [
    "len(set(rejected_imgs).intersection(set(accepted_imgs)))"
   ]
  },
  {
   "cell_type": "code",
   "execution_count": 2,
   "id": "01c9983c-f8ee-4bf8-ab6a-b49a9b2f2365",
   "metadata": {},
   "outputs": [
    {
     "name": "stderr",
     "output_type": "stream",
     "text": [
      "Loading imgs: 100%|██████████████████████████████████████████████████████████████████████████████████████████████████████████| 1664/1664 [03:16<00:00,  8.46it/s]\n"
     ]
    },
    {
     "name": "stdout",
     "output_type": "stream",
     "text": [
      "Saved images to cache.\n"
     ]
    }
   ],
   "source": [
    "from utils import read_images\n",
    "images = read_images()"
   ]
  },
  {
   "cell_type": "code",
   "execution_count": 4,
   "id": "7ce617c1-c4d6-4009-b845-20a68b01b3ff",
   "metadata": {},
   "outputs": [
    {
     "data": {
      "text/plain": [
       "79689"
      ]
     },
     "execution_count": 4,
     "metadata": {},
     "output_type": "execute_result"
    }
   ],
   "source": [
    "total_frames = sum([len(im) for im in images.values()])\n",
    "total_frames"
   ]
  },
  {
   "cell_type": "code",
   "execution_count": 5,
   "id": "30a64988-fb90-496b-816a-513adb2c16b7",
   "metadata": {},
   "outputs": [
    {
     "data": {
      "text/plain": [
       "47.89002403846154"
      ]
     },
     "execution_count": 5,
     "metadata": {},
     "output_type": "execute_result"
    }
   ],
   "source": [
    "total_frames = sum([len(im) for im in images.values()])\n",
    "total_frames"
   ]
  },
  {
   "cell_type": "code",
   "execution_count": null,
   "id": "b9657eba-d415-49d0-b443-386c7793a090",
   "metadata": {},
   "outputs": [],
   "source": []
  }
 ],
 "metadata": {
  "kernelspec": {
   "display_name": "med",
   "language": "python",
   "name": "med"
  },
  "language_info": {
   "codemirror_mode": {
    "name": "ipython",
    "version": 3
   },
   "file_extension": ".py",
   "mimetype": "text/x-python",
   "name": "python",
   "nbconvert_exporter": "python",
   "pygments_lexer": "ipython3",
   "version": "3.10.14"
  }
 },
 "nbformat": 4,
 "nbformat_minor": 5
}
