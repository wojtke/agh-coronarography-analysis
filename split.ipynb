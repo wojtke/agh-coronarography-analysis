{
 "cells": [
  {
   "cell_type": "code",
   "execution_count": 1,
   "id": "b02227be-8e61-4bae-b7b1-865a7f928205",
   "metadata": {},
   "outputs": [],
   "source": [
    "import pandas as pd"
   ]
  },
  {
   "cell_type": "code",
   "execution_count": 3,
   "id": "9c4eac40-a7d2-40f6-8849-75a55bcfea60",
   "metadata": {},
   "outputs": [],
   "source": [
    "studies = pd.read_csv(\"data/v2/study.csv\")\n",
    "images = pd.read_csv(\"data/v2/image.csv\", sep=\";\")\n",
    "\n",
    "test_studies = studies.sample(int(len(studies) * 0.2))\n",
    "test_images = images[images.STUDY_ID.isin(test_studies.ID)]"
   ]
  },
  {
   "cell_type": "code",
   "execution_count": 4,
   "id": "71915bec-3303-40e6-a466-b84c3a95c3d1",
   "metadata": {},
   "outputs": [],
   "source": [
    "test_images.ID.to_csv(\"testimgs.csv\", index=False)\n",
    "test_studies.ID.to_csv(\"teststudies.csv\", index=False)"
   ]
  },
  {
   "cell_type": "code",
   "execution_count": null,
   "id": "0d4d4920-5f84-4876-9a23-6912eff893a9",
   "metadata": {},
   "outputs": [],
   "source": []
  }
 ],
 "metadata": {
  "kernelspec": {
   "display_name": "Python 3 (ipykernel)",
   "language": "python",
   "name": "python3"
  },
  "language_info": {
   "codemirror_mode": {
    "name": "ipython",
    "version": 3
   },
   "file_extension": ".py",
   "mimetype": "text/x-python",
   "name": "python",
   "nbconvert_exporter": "python",
   "pygments_lexer": "ipython3",
   "version": "3.10.13"
  }
 },
 "nbformat": 4,
 "nbformat_minor": 5
}
