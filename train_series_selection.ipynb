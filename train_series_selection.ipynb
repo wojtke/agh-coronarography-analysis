{
 "cells": [
  {
   "cell_type": "code",
   "execution_count": 5,
   "id": "f4ed754a-5e64-42e8-b60a-b0430e94d99b",
   "metadata": {},
   "outputs": [
    {
     "name": "stdout",
     "output_type": "stream",
     "text": [
      "The autoreload extension is already loaded. To reload it, use:\n",
      "  %reload_ext autoreload\n"
     ]
    }
   ],
   "source": [
    "import numpy as np\n",
    "import torch\n",
    "from tqdm import tqdm\n",
    "from torch.utils.data import DataLoader\n",
    "import wandb\n",
    "from sklearn.metrics import f1_score\n",
    "\n",
    "%load_ext autoreload\n",
    "%autoreload all\n",
    "    \n",
    "from utils import read_images\n",
    "from datasets import SimpleSeriesSelectionDataset\n",
    "from models import TemporalResNet"
   ]
  },
  {
   "cell_type": "code",
   "execution_count": 2,
   "id": "2fcd416f-63f2-4a61-bd5b-5187895f1b5f",
   "metadata": {},
   "outputs": [
    {
     "name": "stdout",
     "output_type": "stream",
     "text": [
      "Loaded images from cache.\n"
     ]
    }
   ],
   "source": [
    "images = read_images()"
   ]
  },
  {
   "cell_type": "code",
   "execution_count": 6,
   "id": "ab494849-e0b9-49d0-990d-9f139729d337",
   "metadata": {
    "scrolled": true
   },
   "outputs": [
    {
     "name": "stdout",
     "output_type": "stream",
     "text": [
      "huj\n",
      "huj\n",
      "Train: 1291\n",
      "Test: 363\n"
     ]
    }
   ],
   "source": [
    "train_dataset = SimpleSeriesSelectionDataset(images, split=\"train\")\n",
    "test_dataset = SimpleSeriesSelectionDataset(images, split=\"test\")\n",
    "\n",
    "print(f\"Train: {len(train_dataset)}\")\n",
    "print(f\"Test: {len(test_dataset)}\")\n",
    "\n",
    "train_loader = DataLoader(train_dataset, batch_size=4, shuffle=True)\n",
    "test_loader = DataLoader(test_dataset, batch_size=4)"
   ]
  },
  {
   "cell_type": "code",
   "execution_count": 7,
   "id": "07bec059-8318-47af-9984-2bfe381b981c",
   "metadata": {
    "scrolled": true
   },
   "outputs": [
    {
     "data": {
      "text/html": [
       "Finishing last run (ID:v93n7hw9) before initializing another..."
      ],
      "text/plain": [
       "<IPython.core.display.HTML object>"
      ]
     },
     "metadata": {},
     "output_type": "display_data"
    },
    {
     "name": "stderr",
     "output_type": "stream",
     "text": [
      "wandb: WARNING Source type is set to 'repo' but some required information is missing from the environment. A job will not be created from this run. See https://docs.wandb.ai/guides/launch/create-job\n"
     ]
    },
    {
     "data": {
      "application/vnd.jupyter.widget-view+json": {
       "model_id": "",
       "version_major": 2,
       "version_minor": 0
      },
      "text/plain": [
       "VBox(children=(Label(value='0.004 MB of 0.004 MB uploaded\\r'), FloatProgress(value=1.0, max=1.0)))"
      ]
     },
     "metadata": {},
     "output_type": "display_data"
    },
    {
     "data": {
      "text/html": [
       " View run <strong style=\"color:#cdcd00\">frosty-pyramid-1</strong> at: <a href='https://wandb.ai/woj-jasinski/corflow-series_selection/runs/v93n7hw9' target=\"_blank\">https://wandb.ai/woj-jasinski/corflow-series_selection/runs/v93n7hw9</a><br/>Synced 6 W&B file(s), 0 media file(s), 0 artifact file(s) and 0 other file(s)"
      ],
      "text/plain": [
       "<IPython.core.display.HTML object>"
      ]
     },
     "metadata": {},
     "output_type": "display_data"
    },
    {
     "data": {
      "text/html": [
       "Find logs at: <code>./wandb/run-20240608_174522-v93n7hw9/logs</code>"
      ],
      "text/plain": [
       "<IPython.core.display.HTML object>"
      ]
     },
     "metadata": {},
     "output_type": "display_data"
    },
    {
     "data": {
      "text/html": [
       "Successfully finished last run (ID:v93n7hw9). Initializing new run:<br/>"
      ],
      "text/plain": [
       "<IPython.core.display.HTML object>"
      ]
     },
     "metadata": {},
     "output_type": "display_data"
    },
    {
     "data": {
      "application/vnd.jupyter.widget-view+json": {
       "model_id": "bdc064675a8b48d19637c4b52d6e0730",
       "version_major": 2,
       "version_minor": 0
      },
      "text/plain": [
       "VBox(children=(Label(value='Waiting for wandb.init()...\\r'), FloatProgress(value=0.011113204558690389, max=1.0…"
      ]
     },
     "metadata": {},
     "output_type": "display_data"
    },
    {
     "data": {
      "text/html": [
       "wandb version 0.17.1 is available!  To upgrade, please run:\n",
       " $ pip install wandb --upgrade"
      ],
      "text/plain": [
       "<IPython.core.display.HTML object>"
      ]
     },
     "metadata": {},
     "output_type": "display_data"
    },
    {
     "data": {
      "text/html": [
       "Tracking run with wandb version 0.16.1"
      ],
      "text/plain": [
       "<IPython.core.display.HTML object>"
      ]
     },
     "metadata": {},
     "output_type": "display_data"
    },
    {
     "data": {
      "text/html": [
       "Run data is saved locally in <code>/root/wojtek/random/corflow/wandb/run-20240608_174945-622z7m73</code>"
      ],
      "text/plain": [
       "<IPython.core.display.HTML object>"
      ]
     },
     "metadata": {},
     "output_type": "display_data"
    },
    {
     "data": {
      "text/html": [
       "Syncing run <strong><a href='https://wandb.ai/woj-jasinski/corflow-series_selection/runs/622z7m73' target=\"_blank\">fluent-salad-2</a></strong> to <a href='https://wandb.ai/woj-jasinski/corflow-series_selection' target=\"_blank\">Weights & Biases</a> (<a href='https://wandb.me/run' target=\"_blank\">docs</a>)<br/>"
      ],
      "text/plain": [
       "<IPython.core.display.HTML object>"
      ]
     },
     "metadata": {},
     "output_type": "display_data"
    },
    {
     "data": {
      "text/html": [
       " View project at <a href='https://wandb.ai/woj-jasinski/corflow-series_selection' target=\"_blank\">https://wandb.ai/woj-jasinski/corflow-series_selection</a>"
      ],
      "text/plain": [
       "<IPython.core.display.HTML object>"
      ]
     },
     "metadata": {},
     "output_type": "display_data"
    },
    {
     "data": {
      "text/html": [
       " View run at <a href='https://wandb.ai/woj-jasinski/corflow-series_selection/runs/622z7m73' target=\"_blank\">https://wandb.ai/woj-jasinski/corflow-series_selection/runs/622z7m73</a>"
      ],
      "text/plain": [
       "<IPython.core.display.HTML object>"
      ]
     },
     "metadata": {},
     "output_type": "display_data"
    },
    {
     "name": "stderr",
     "output_type": "stream",
     "text": [
      "Loss: 0.6734/4.3396 | F1 0.5072/0.6235: 100%|██████████████████████████████████████████████████████████████████████████████████| 100/100 [24:38<00:00, 14.79s/it]\n"
     ]
    },
    {
     "data": {
      "application/vnd.jupyter.widget-view+json": {
       "model_id": "",
       "version_major": 2,
       "version_minor": 0
      },
      "text/plain": [
       "VBox(children=(Label(value='46.707 MB of 46.707 MB uploaded\\r'), FloatProgress(value=1.0, max=1.0)))"
      ]
     },
     "metadata": {},
     "output_type": "display_data"
    },
    {
     "name": "stderr",
     "output_type": "stream",
     "text": [
      "wandb: WARNING Source type is set to 'repo' but some required information is missing from the environment. A job will not be created from this run. See https://docs.wandb.ai/guides/launch/create-job\n"
     ]
    },
    {
     "data": {
      "text/html": [
       "<style>\n",
       "    table.wandb td:nth-child(1) { padding: 0 10px; text-align: left ; width: auto;} td:nth-child(2) {text-align: left ; width: 100%}\n",
       "    .wandb-row { display: flex; flex-direction: row; flex-wrap: wrap; justify-content: flex-start; width: 100% }\n",
       "    .wandb-col { display: flex; flex-direction: column; flex-basis: 100%; flex: 1; padding: 10px; }\n",
       "    </style>\n",
       "<div class=\"wandb-row\"><div class=\"wandb-col\"><h3>Run history:</h3><br/><table class=\"wandb\"><tr><td>epoch</td><td>▁▁▁▁▂▂▂▂▂▃▃▃▃▃▃▄▄▄▄▄▅▅▅▅▅▅▆▆▆▆▆▇▇▇▇▇▇███</td></tr><tr><td>test_f1_score</td><td>▇▇▇▇▇▇▇▇▇▁█▇▇▇▇▇▇▇█▇██▃▇▇▇▇▇▇▇▇▇▇▇▇▇▇▇▇▇</td></tr><tr><td>test_loss</td><td>▁▁▁▁▁▁▁▁▁▅▁▁▁█▆▄▇▂▂▁▁▁▁▁▁▁▂▁▂▁▁▄▃▆▁▃▄▅▃▁</td></tr><tr><td>train_f1_score</td><td>▂▁▁▂▁▁▁▁▁▁▁▁▁▃▄▂▄▇▇▁▄█▇▃▄▅▄▁▁▁▁▁▁▁▁▁▁▁▂▁</td></tr><tr><td>train_loss</td><td>▆▃▃▇▄▃▃▃▃▃▅▃▃▅▃▃▂▁▁▂▂▁▆▂▄█▄▃▃▂▂▃▃▂▃▂▃▃▅▄</td></tr></table><br/></div><div class=\"wandb-col\"><h3>Run summary:</h3><br/><table class=\"wandb\"><tr><td>epoch</td><td>99</td></tr><tr><td>test_f1_score</td><td>0.62346</td></tr><tr><td>test_loss</td><td>4.33964</td></tr><tr><td>train_f1_score</td><td>0.50718</td></tr><tr><td>train_loss</td><td>0.67342</td></tr></table><br/></div></div>"
      ],
      "text/plain": [
       "<IPython.core.display.HTML object>"
      ]
     },
     "metadata": {},
     "output_type": "display_data"
    },
    {
     "data": {
      "text/html": [
       " View run <strong style=\"color:#cdcd00\">fluent-salad-2</strong> at: <a href='https://wandb.ai/woj-jasinski/corflow-series_selection/runs/622z7m73' target=\"_blank\">https://wandb.ai/woj-jasinski/corflow-series_selection/runs/622z7m73</a><br/>Synced 6 W&B file(s), 0 media file(s), 1 artifact file(s) and 0 other file(s)"
      ],
      "text/plain": [
       "<IPython.core.display.HTML object>"
      ]
     },
     "metadata": {},
     "output_type": "display_data"
    },
    {
     "data": {
      "text/html": [
       "Find logs at: <code>./wandb/run-20240608_174945-622z7m73/logs</code>"
      ],
      "text/plain": [
       "<IPython.core.display.HTML object>"
      ]
     },
     "metadata": {},
     "output_type": "display_data"
    }
   ],
   "source": [
    "run = wandb.init(\n",
    "    project='corflow-series_selection', \n",
    "    config={\n",
    "        \"architecture\": \"TemporalResNet18\",\n",
    "    }\n",
    ")\n",
    "device = torch.device('cuda' if torch.cuda.is_available() else 'cpu')\n",
    "\n",
    "model = TemporalResNet() \n",
    "model = model.to(device)\n",
    "\n",
    "criterion = torch.nn.CrossEntropyLoss()\n",
    "optimizer = torch.optim.Adam(model.parameters(), lr=0.001)\n",
    "\n",
    "best_test_loss = np.inf\n",
    "pbar = tqdm(range(100))\n",
    "for epoch in pbar:\n",
    "    model.train()\n",
    "    running_loss = 0.0\n",
    "    all_preds, all_labels = [], []\n",
    "    for imgs, labels in train_loader:\n",
    "        imgs, labels = imgs.to(device), labels.to(device)\n",
    "\n",
    "        outputs = model(imgs)\n",
    "        loss = criterion(outputs, labels)\n",
    "\n",
    "        optimizer.zero_grad()\n",
    "        loss.backward()\n",
    "        optimizer.step()\n",
    "\n",
    "        running_loss += loss.item()\n",
    "        all_preds.extend(torch.argmax(outputs, dim=1).cpu().numpy())\n",
    "        all_labels.extend(labels.cpu().numpy())\n",
    "\n",
    "    avg_train_loss = running_loss / len(train_loader)\n",
    "    train_f1_score = f1_score(all_labels, all_preds, average='weighted')\n",
    "\n",
    "    model.eval()\n",
    "    running_loss = 0.0\n",
    "    all_preds, all_labels = [], []\n",
    "    with torch.no_grad():\n",
    "        for imgs, labels in test_loader:\n",
    "            imgs, labels = imgs.to(device), labels.to(device)\n",
    "\n",
    "            outputs = model(imgs)\n",
    "            loss = criterion(outputs, labels)\n",
    "\n",
    "            running_loss += loss.item()\n",
    "            all_preds.extend(torch.argmax(outputs, dim=1).cpu().numpy())\n",
    "            all_labels.extend(labels.cpu().numpy())\n",
    "\n",
    "    avg_test_loss = running_loss / len(test_loader)\n",
    "    test_f1_score = f1_score(all_labels, all_preds, average='weighted')\n",
    "    \n",
    "    pbar.set_description(\n",
    "        f'Loss: {avg_train_loss:.4f}/{avg_test_loss:.4f} | ' \n",
    "        f'F1 {train_f1_score:.4f}/{test_f1_score:.4f}'\n",
    "    )\n",
    "\n",
    "    wandb.log({\n",
    "        \"test_loss\": avg_test_loss, \"test_f1_score\": test_f1_score,\n",
    "        \"train_loss\": avg_train_loss, \"train_f1_score\": train_f1_score,\n",
    "        \"epoch\": epoch\n",
    "    })\n",
    "\n",
    "    if avg_test_loss < best_test_loss:\n",
    "        best_test_loss = avg_test_loss\n",
    "        torch.save(model.state_dict(), 'weights/series_selection.pth')\n",
    "\n",
    "artifact = wandb.Artifact('model-artifact', type='model')\n",
    "artifact.add_file('weights/series_selection.pth')\n",
    "wandb.log_artifact(artifact)\n",
    "\n",
    "wandb.finish()"
   ]
  },
  {
   "cell_type": "code",
   "execution_count": null,
   "id": "fc22f4c9-2432-4f21-a75c-d55d06cfb857",
   "metadata": {},
   "outputs": [],
   "source": []
  }
 ],
 "metadata": {
  "kernelspec": {
   "display_name": "Python 3 (ipykernel)",
   "language": "python",
   "name": "python3"
  },
  "language_info": {
   "codemirror_mode": {
    "name": "ipython",
    "version": 3
   },
   "file_extension": ".py",
   "mimetype": "text/x-python",
   "name": "python",
   "nbconvert_exporter": "python",
   "pygments_lexer": "ipython3",
   "version": "3.10.13"
  }
 },
 "nbformat": 4,
 "nbformat_minor": 5
}
