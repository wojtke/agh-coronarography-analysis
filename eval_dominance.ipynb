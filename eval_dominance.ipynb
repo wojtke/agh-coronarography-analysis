{
 "cells": [
  {
   "cell_type": "code",
   "execution_count": 11,
   "id": "abe0c521-c218-4998-8f0c-e62c9c7b32a6",
   "metadata": {},
   "outputs": [
    {
     "name": "stdout",
     "output_type": "stream",
     "text": [
      "The autoreload extension is already loaded. To reload it, use:\n",
      "  %reload_ext autoreload\n"
     ]
    },
    {
     "data": {
      "text/plain": [
       "<torch.autograd.grad_mode.set_grad_enabled at 0x7f365bd80070>"
      ]
     },
     "execution_count": 11,
     "metadata": {},
     "output_type": "execute_result"
    }
   ],
   "source": [
    "import torch\n",
    "import pandas as pd\n",
    "import numpy as np\n",
    "from sklearn.metrics import classification_report, confusion_matrix\n",
    "\n",
    "%load_ext autoreload\n",
    "%autoreload all\n",
    "    \n",
    "from utils import read_images\n",
    "from datasets import DominanceDataset\n",
    "from models import SiameseResNet\n",
    "\n",
    "torch.set_grad_enabled(False)"
   ]
  },
  {
   "cell_type": "code",
   "execution_count": 2,
   "id": "22e64b6e-fb6f-4a57-9015-060567565599",
   "metadata": {
    "scrolled": true
   },
   "outputs": [
    {
     "name": "stderr",
     "output_type": "stream",
     "text": [
      "Loading imgs: 100%|████████████████████████████████████████████████████████████████████████████████████████████████████████████| 367/367 [00:46<00:00,  7.87it/s]\n"
     ]
    },
    {
     "ename": "NameError",
     "evalue": "name 'DataLoader' is not defined",
     "output_type": "error",
     "traceback": [
      "\u001b[0;31m---------------------------------------------------------------------------\u001b[0m",
      "\u001b[0;31mNameError\u001b[0m                                 Traceback (most recent call last)",
      "Cell \u001b[0;32mIn[2], line 7\u001b[0m\n\u001b[1;32m      5\u001b[0m images \u001b[38;5;241m=\u001b[39m read_images(ids\u001b[38;5;241m=\u001b[39m\u001b[38;5;124m\"\u001b[39m\u001b[38;5;124mtest\u001b[39m\u001b[38;5;124m\"\u001b[39m)\n\u001b[1;32m      6\u001b[0m test_dataset \u001b[38;5;241m=\u001b[39m DominanceDataset(images, split\u001b[38;5;241m=\u001b[39m\u001b[38;5;124m\"\u001b[39m\u001b[38;5;124mtest\u001b[39m\u001b[38;5;124m\"\u001b[39m)\n\u001b[0;32m----> 7\u001b[0m test_loader \u001b[38;5;241m=\u001b[39m \u001b[43mDataLoader\u001b[49m(test_dataset, batch_size\u001b[38;5;241m=\u001b[39m\u001b[38;5;241m8\u001b[39m)\n",
      "\u001b[0;31mNameError\u001b[0m: name 'DataLoader' is not defined"
     ]
    }
   ],
   "source": [
    "model = SiameseResNet()\n",
    "model.load_state_dict(torch.load('weights/dominance.pth'))\n",
    "model.eval()\n",
    "\n",
    "images = read_images(ids=\"test\")\n",
    "test_dataset = DominanceDataset(images, split=\"test\")\n",
    "#test_loader = DataLoader(test_dataset, batch_size=8)"
   ]
  },
  {
   "cell_type": "code",
   "execution_count": 9,
   "id": "176ec457-3ee3-4d90-9922-9db4022b00b0",
   "metadata": {},
   "outputs": [],
   "source": [
    "def get_pred(left_imgs, right_imgs):\n",
    "    preds = []\n",
    "    for l in left_imgs:\n",
    "        for r in right_imgs:\n",
    "            pred = torch.sigmoid(model(l, r))[0, 1]\n",
    "            preds.append(pred)\n",
    "    preds = np.array(preds)\n",
    "    return preds.mean(), preds.std()"
   ]
  },
  {
   "cell_type": "code",
   "execution_count": 13,
   "id": "2f0bea12-0fe3-4587-9751-1f512bebd595",
   "metadata": {},
   "outputs": [
    {
     "name": "stdout",
     "output_type": "stream",
     "text": [
      "Classification Report:\n",
      "              precision    recall  f1-score   support\n",
      "\n",
      "         1.0       1.00      1.00      1.00        16\n",
      "\n",
      "    accuracy                           1.00        16\n",
      "   macro avg       1.00      1.00      1.00        16\n",
      "weighted avg       1.00      1.00      1.00        16\n",
      "\n",
      "Confusion Matrix:\n",
      "[[16]]\n"
     ]
    },
    {
     "name": "stderr",
     "output_type": "stream",
     "text": [
      "/root/przemek/miniconda3/envs/torch21/lib/python3.10/site-packages/sklearn/metrics/_classification.py:386: UserWarning: A single label was found in 'y_true' and 'y_pred'. For the confusion matrix to have the correct shape, use the 'labels' parameter to pass all known labels.\n",
      "  warnings.warn(\n"
     ]
    }
   ],
   "source": [
    "# eval representative frame sampling \n",
    "\n",
    "labels = []\n",
    "preds = []\n",
    "for i in range(len(test_dataset)):\n",
    "    study_id, data = test_dataset.index[i]\n",
    "\n",
    "    imgs_left=[]\n",
    "    for img_id, frame_n in zip(data[\"l\"], data[\"l_f\"]):\n",
    "        img = images[img_id][frame_n]\n",
    "        img = test_dataset.transform(img).unsqueeze(0)\n",
    "        imgs_left.append(img)\n",
    "\n",
    "    imgs_right=[]\n",
    "    for img_id, frame_n in zip(data[\"r\"], data[\"r_f\"]):\n",
    "        img = images[img_id][frame_n]\n",
    "        img = test_dataset.transform(img).unsqueeze(0)\n",
    "        imgs_right.append(img)\n",
    "\n",
    "    pred, _ = get_pred(imgs_left, imgs_right)\n",
    "    preds.append(1 if pred > 0.5 else 0)\n",
    "    labels.append(data[\"label\"])\n",
    "\n",
    "report = classification_report(labels, preds)\n",
    "matrix = confusion_matrix(labels, preds)\n",
    "print(\"Classification Report:\")\n",
    "print(report)\n",
    "print(\"Confusion Matrix:\")\n",
    "print(matrix)"
   ]
  },
  {
   "cell_type": "code",
   "execution_count": null,
   "id": "88694cbb-16c0-4f43-997f-8fef5885fa99",
   "metadata": {},
   "outputs": [],
   "source": []
  }
 ],
 "metadata": {
  "kernelspec": {
   "display_name": "Python 3 (ipykernel)",
   "language": "python",
   "name": "python3"
  },
  "language_info": {
   "codemirror_mode": {
    "name": "ipython",
    "version": 3
   },
   "file_extension": ".py",
   "mimetype": "text/x-python",
   "name": "python",
   "nbconvert_exporter": "python",
   "pygments_lexer": "ipython3",
   "version": "3.10.13"
  }
 },
 "nbformat": 4,
 "nbformat_minor": 5
}
