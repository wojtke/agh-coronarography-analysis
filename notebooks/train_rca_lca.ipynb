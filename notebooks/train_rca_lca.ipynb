{
 "cells": [
  {
   "cell_type": "code",
   "execution_count": 1,
   "id": "566b721a-d2aa-43d7-bc8e-c28aa9078d5d",
   "metadata": {},
   "outputs": [],
   "source": [
    "import pandas as pd\n",
    "import matplotlib.pyplot as plt\n",
    "import os\n",
    "import cv2\n",
    "import zlib\n",
    "import numpy as np\n",
    "import base64\n",
    "import random\n",
    "import seaborn as sns\n",
    "\n",
    "import torch\n",
    "import torch.nn as nn\n",
    "import torch.optim as optim\n",
    "from torchvision import models, transforms, datasets\n",
    "from torch.utils.data import DataLoader, Dataset\n",
    "from sklearn.model_selection import train_test_split\n",
    "from sklearn.metrics import confusion_matrix\n",
    "from PIL import Image\n",
    "from torchvision import models\n",
    "from torchvision.models import ResNet18_Weights"
   ]
  },
  {
   "cell_type": "code",
   "execution_count": 2,
   "id": "c259944b-6f95-44ba-84fd-473843205ce6",
   "metadata": {},
   "outputs": [],
   "source": [
    "def mask_to_binary(mask_data, height=512, width=512):\n",
    "    mask = np.frombuffer(mask_data, dtype=np.uint8).reshape(height, width)\n",
    "    binary_mask = mask != 0  # Przekształcenie wartości pikseli na wartości logiczne\n",
    "    return binary_mask"
   ]
  },
  {
   "cell_type": "code",
   "execution_count": 3,
   "id": "69947c48-5e76-4bd8-9e2f-a8cdc627f0d3",
   "metadata": {},
   "outputs": [],
   "source": [
    "df1 = pd.read_csv(\"../Frame Selection/dataset.csv\")\n",
    "df2 = pd.read_csv(\"../imagefeedback.csv\", delimiter=\";\")\n",
    "df3 = pd.read_csv(\"../image.csv\", delimiter=\";\", on_bad_lines='skip')\n",
    "\n",
    "# Tu łącze dane z różnych plików, usuwam duplikaty bo się tworzą i usuwam brakujące wartosci w SIDE\n",
    "df = (pd.merge(df1, df2, left_on='image_id', right_on='IMAGE_ID', how='inner')\n",
    "        [['image_id', 'segmentation', 'SIDE']]\n",
    "        .dropna(subset=['SIDE']))\n",
    "\n",
    "# Dekodowanie i dekompresja kolumny 'segmentation'\n",
    "df['segmentation'] = df['segmentation'].apply(lambda x: zlib.decompress(base64.b64decode(x)))\n",
    "\n",
    "# Filtracja segmentacji o rozmiarze równym 262144 (bo pojedycnze wartosci mają inne rozmiary)\n",
    "df = df[df['segmentation'].apply(len) == 262144]\n",
    "\n",
    "df = (pd.merge(df, df3, left_on='image_id', right_on='ID', how='inner')\n",
    "        [['image_id', 'segmentation', 'SIDE', 'PATIENTID', 'STUDY_ID']]\n",
    "        .drop_duplicates()\n",
    "        .dropna(subset=['SIDE']))\n",
    "\n",
    "# Usuwam duplikaty w maskach (bo są dwa duplikaty)\n",
    "df = df.drop_duplicates(subset='segmentation')\n",
    "\n",
    "df = df[df['segmentation'].apply(lambda x: isinstance(x, bytes))]\n",
    "df['segmentation'] = df['segmentation'].apply(mask_to_binary)\n",
    "df = df.reset_index(drop=True)\n",
    "df = df.reset_index()"
   ]
  },
  {
   "cell_type": "code",
   "execution_count": 4,
   "id": "056c755a-c6cc-4661-8c50-d9ba2adbce7c",
   "metadata": {},
   "outputs": [
    {
     "data": {
      "text/html": [
       "<div>\n",
       "<style scoped>\n",
       "    .dataframe tbody tr th:only-of-type {\n",
       "        vertical-align: middle;\n",
       "    }\n",
       "\n",
       "    .dataframe tbody tr th {\n",
       "        vertical-align: top;\n",
       "    }\n",
       "\n",
       "    .dataframe thead th {\n",
       "        text-align: right;\n",
       "    }\n",
       "</style>\n",
       "<table border=\"1\" class=\"dataframe\">\n",
       "  <thead>\n",
       "    <tr style=\"text-align: right;\">\n",
       "      <th></th>\n",
       "      <th>index</th>\n",
       "      <th>image_id</th>\n",
       "      <th>segmentation</th>\n",
       "      <th>SIDE</th>\n",
       "      <th>PATIENTID</th>\n",
       "      <th>STUDY_ID</th>\n",
       "    </tr>\n",
       "  </thead>\n",
       "  <tbody>\n",
       "    <tr>\n",
       "      <th>0</th>\n",
       "      <td>0</td>\n",
       "      <td>131aedfhs6pnf1fvtvp49mjf02x1fl1f22</td>\n",
       "      <td>[[False, False, False, False, False, False, Fa...</td>\n",
       "      <td>0.0</td>\n",
       "      <td>id014</td>\n",
       "      <td>1.3.46.670589.28.68172260235162120220528134546...</td>\n",
       "    </tr>\n",
       "    <tr>\n",
       "      <th>1</th>\n",
       "      <td>1</td>\n",
       "      <td>131aedfhs6pnf1fvtvp49mjf04wc7y5722</td>\n",
       "      <td>[[False, False, False, False, False, False, Fa...</td>\n",
       "      <td>0.0</td>\n",
       "      <td>id014</td>\n",
       "      <td>1.3.46.670589.28.68172260235162120220528134546...</td>\n",
       "    </tr>\n",
       "    <tr>\n",
       "      <th>2</th>\n",
       "      <td>2</td>\n",
       "      <td>131aedfhs6pnf1fvtvp49mjf04y0vtqu22</td>\n",
       "      <td>[[False, False, False, False, False, False, Fa...</td>\n",
       "      <td>0.0</td>\n",
       "      <td>id014</td>\n",
       "      <td>1.3.46.670589.28.68172260235162120220528134546...</td>\n",
       "    </tr>\n",
       "    <tr>\n",
       "      <th>3</th>\n",
       "      <td>3</td>\n",
       "      <td>131aedfhs6pnf1fvtvp49mk5l3qcg5hh22</td>\n",
       "      <td>[[False, False, False, False, False, False, Fa...</td>\n",
       "      <td>0.0</td>\n",
       "      <td>id013</td>\n",
       "      <td>1.3.46.670589.28.68172260235162120220603125733...</td>\n",
       "    </tr>\n",
       "    <tr>\n",
       "      <th>4</th>\n",
       "      <td>4</td>\n",
       "      <td>131aedfhs6pnf1fvtvp49mk5l3ra0gpr22</td>\n",
       "      <td>[[False, False, False, False, False, False, Fa...</td>\n",
       "      <td>0.0</td>\n",
       "      <td>id013</td>\n",
       "      <td>1.3.46.670589.28.68172260235162120220603125733...</td>\n",
       "    </tr>\n",
       "    <tr>\n",
       "      <th>...</th>\n",
       "      <td>...</td>\n",
       "      <td>...</td>\n",
       "      <td>...</td>\n",
       "      <td>...</td>\n",
       "      <td>...</td>\n",
       "      <td>...</td>\n",
       "    </tr>\n",
       "    <tr>\n",
       "      <th>883</th>\n",
       "      <td>883</td>\n",
       "      <td>13c2ur549vohc0jat2dvt3xrmw2</td>\n",
       "      <td>[[False, False, False, False, False, False, Fa...</td>\n",
       "      <td>0.0</td>\n",
       "      <td>xx</td>\n",
       "      <td>1.3.12.2.1107.5.4.9.41057.20180405.111305.6614...</td>\n",
       "    </tr>\n",
       "    <tr>\n",
       "      <th>884</th>\n",
       "      <td>884</td>\n",
       "      <td>13c2ur549vohc0jat2dvu3xrxb1</td>\n",
       "      <td>[[False, False, False, False, False, False, Fa...</td>\n",
       "      <td>1.0</td>\n",
       "      <td>xx</td>\n",
       "      <td>1.3.12.2.1107.5.4.9.41057.20180405.111305.6614...</td>\n",
       "    </tr>\n",
       "    <tr>\n",
       "      <th>885</th>\n",
       "      <td>885</td>\n",
       "      <td>13c2ur549vohc0jat2dvu3xs0c1</td>\n",
       "      <td>[[False, False, False, False, False, False, Fa...</td>\n",
       "      <td>1.0</td>\n",
       "      <td>xx</td>\n",
       "      <td>1.3.12.2.1107.5.4.9.41057.20180405.111305.6614...</td>\n",
       "    </tr>\n",
       "    <tr>\n",
       "      <th>886</th>\n",
       "      <td>886</td>\n",
       "      <td>13c2ur549vohc0jat2dvu3xs2y1</td>\n",
       "      <td>[[False, False, False, False, False, False, Fa...</td>\n",
       "      <td>1.0</td>\n",
       "      <td>xx</td>\n",
       "      <td>1.3.12.2.1107.5.4.9.41057.20180405.111305.6614...</td>\n",
       "    </tr>\n",
       "    <tr>\n",
       "      <th>887</th>\n",
       "      <td>887</td>\n",
       "      <td>13c2ur549vohc0jat2dvu3xs7q1</td>\n",
       "      <td>[[False, False, False, False, False, False, Fa...</td>\n",
       "      <td>0.0</td>\n",
       "      <td>xx</td>\n",
       "      <td>1.3.12.2.1107.5.4.9.41057.20180405.111305.6614...</td>\n",
       "    </tr>\n",
       "  </tbody>\n",
       "</table>\n",
       "<p>888 rows × 6 columns</p>\n",
       "</div>"
      ],
      "text/plain": [
       "     index                            image_id  \\\n",
       "0        0  131aedfhs6pnf1fvtvp49mjf02x1fl1f22   \n",
       "1        1  131aedfhs6pnf1fvtvp49mjf04wc7y5722   \n",
       "2        2  131aedfhs6pnf1fvtvp49mjf04y0vtqu22   \n",
       "3        3  131aedfhs6pnf1fvtvp49mk5l3qcg5hh22   \n",
       "4        4  131aedfhs6pnf1fvtvp49mk5l3ra0gpr22   \n",
       "..     ...                                 ...   \n",
       "883    883         13c2ur549vohc0jat2dvt3xrmw2   \n",
       "884    884         13c2ur549vohc0jat2dvu3xrxb1   \n",
       "885    885         13c2ur549vohc0jat2dvu3xs0c1   \n",
       "886    886         13c2ur549vohc0jat2dvu3xs2y1   \n",
       "887    887         13c2ur549vohc0jat2dvu3xs7q1   \n",
       "\n",
       "                                          segmentation  SIDE PATIENTID  \\\n",
       "0    [[False, False, False, False, False, False, Fa...   0.0     id014   \n",
       "1    [[False, False, False, False, False, False, Fa...   0.0     id014   \n",
       "2    [[False, False, False, False, False, False, Fa...   0.0     id014   \n",
       "3    [[False, False, False, False, False, False, Fa...   0.0     id013   \n",
       "4    [[False, False, False, False, False, False, Fa...   0.0     id013   \n",
       "..                                                 ...   ...       ...   \n",
       "883  [[False, False, False, False, False, False, Fa...   0.0        xx   \n",
       "884  [[False, False, False, False, False, False, Fa...   1.0        xx   \n",
       "885  [[False, False, False, False, False, False, Fa...   1.0        xx   \n",
       "886  [[False, False, False, False, False, False, Fa...   1.0        xx   \n",
       "887  [[False, False, False, False, False, False, Fa...   0.0        xx   \n",
       "\n",
       "                                              STUDY_ID  \n",
       "0    1.3.46.670589.28.68172260235162120220528134546...  \n",
       "1    1.3.46.670589.28.68172260235162120220528134546...  \n",
       "2    1.3.46.670589.28.68172260235162120220528134546...  \n",
       "3    1.3.46.670589.28.68172260235162120220603125733...  \n",
       "4    1.3.46.670589.28.68172260235162120220603125733...  \n",
       "..                                                 ...  \n",
       "883  1.3.12.2.1107.5.4.9.41057.20180405.111305.6614...  \n",
       "884  1.3.12.2.1107.5.4.9.41057.20180405.111305.6614...  \n",
       "885  1.3.12.2.1107.5.4.9.41057.20180405.111305.6614...  \n",
       "886  1.3.12.2.1107.5.4.9.41057.20180405.111305.6614...  \n",
       "887  1.3.12.2.1107.5.4.9.41057.20180405.111305.6614...  \n",
       "\n",
       "[888 rows x 6 columns]"
      ]
     },
     "execution_count": 4,
     "metadata": {},
     "output_type": "execute_result"
    }
   ],
   "source": [
    "df"
   ]
  },
  {
   "cell_type": "code",
   "execution_count": 5,
   "id": "d490b6c7-7dc3-429e-9af2-66e9345fe5f2",
   "metadata": {},
   "outputs": [],
   "source": [
    "def get_model():\n",
    "    model = models.resnet18(weights=ResNet18_Weights.DEFAULT)\n",
    "    for param in model.parameters():\n",
    "        param.requires_grad = False\n",
    "\n",
    "    model.conv1 = nn.Conv2d(1, 64, kernel_size=(7, 7), stride=(2, 2), padding=(3, 3), bias=False)\n",
    "\n",
    "    model.avgpool = nn.AdaptiveAvgPool2d(output_size=(1,1))\n",
    "    model.fc = nn.Sequential(nn.Flatten(),\n",
    "        nn.Linear(512, 128),\n",
    "        nn.ReLU(),\n",
    "        nn.Dropout(0.2),\n",
    "        nn.Linear(128, 1),\n",
    "        nn.Sigmoid())\n",
    "    loss_fn = nn.BCELoss()\n",
    "    optimizer = torch.optim.Adam(model.parameters(), lr= 1e-3)\n",
    "    return model.to(device), loss_fn, optimizer"
   ]
  },
  {
   "cell_type": "code",
   "execution_count": 6,
   "id": "0f44194a-b91e-4345-b288-0a3120ef8b0d",
   "metadata": {},
   "outputs": [
    {
     "name": "stdout",
     "output_type": "stream",
     "text": [
      "\n"
     ]
    }
   ],
   "source": [
    "device = torch.device('cuda' if torch.cuda.is_available() else 'cpu')\n",
    "model, loss_fn, optimizer = get_model()\n",
    "model.to(device)\n",
    "print(\"\")"
   ]
  },
  {
   "cell_type": "code",
   "execution_count": 7,
   "id": "585fa231-e98e-4a46-8278-c580b2245363",
   "metadata": {},
   "outputs": [
    {
     "name": "stdout",
     "output_type": "stream",
     "text": [
      "CUDA available: True\n",
      "CUDA device count: 1\n",
      "CUDA device name: NVIDIA GeForce RTX 3050 Ti Laptop GPU\n",
      "Used device: cuda\n"
     ]
    }
   ],
   "source": [
    "print(f'CUDA available: {torch.cuda.is_available()}')\n",
    "if torch.cuda.is_available():\n",
    "    print(f'CUDA device count: {torch.cuda.device_count()}')\n",
    "    print(f'CUDA device name: {torch.cuda.get_device_name(0)}')\n",
    "    print(f\"Used device: {device}\")"
   ]
  },
  {
   "cell_type": "code",
   "execution_count": 8,
   "id": "c123d424-4496-4392-8a51-89ab42c0ac8d",
   "metadata": {},
   "outputs": [],
   "source": [
    "class CustomDataset(Dataset):\n",
    "    def __init__(self, dataframe, transform=None):\n",
    "        self.dataframe = dataframe\n",
    "        self.transform = transform\n",
    "\n",
    "    def __len__(self):\n",
    "        return len(self.dataframe)\n",
    "\n",
    "    def __getitem__(self, idx):\n",
    "        mask_array = self.dataframe.iloc[idx]['segmentation']\n",
    "        label = self.dataframe.iloc[idx]['SIDE']\n",
    "        mask_image = Image.fromarray(mask_array.astype(np.uint8) * 255).convert(\"L\")\n",
    "        id = self.dataframe.iloc[idx]['index']\n",
    "        \n",
    "        if self.transform:\n",
    "            mask_tensor = self.transform(mask_image)\n",
    "        else:\n",
    "            mask_tensor = transforms.ToTensor()(mask_image)\n",
    "            \n",
    "        return mask_tensor, torch.tensor(label, dtype=torch.float32), id\n",
    "\n",
    "# Transformacje danych\n",
    "transform = transforms.Compose([\n",
    "    transforms.Resize((224, 224)),\n",
    "    transforms.ToTensor()\n",
    "])"
   ]
  },
  {
   "cell_type": "markdown",
   "id": "6b66090f-557b-403d-a610-68556742d89c",
   "metadata": {},
   "source": [
    "Tu chcemy podzielić dataset na podzbiory train oraz test w taki sposób, aby te same zdjęcia znajdowały się zawsze w jednym z tych podzbiorów (niektóre zdjęcia mają kilka masek a są one bardzo podobne) - ten kod jest niedeterministyczny ze względu na \"np.random.shuffle(uniq_ids)\". Przez to accuracy się wacha od 94 do nawet 99% w zalezności od tego jak się dane ułożą\n"
   ]
  },
  {
   "cell_type": "code",
   "execution_count": 9,
   "id": "2e90e552-09f3-4827-9e3e-f54b82847d20",
   "metadata": {},
   "outputs": [],
   "source": [
    "uniq_ids = df['image_id'].unique()\n",
    "np.random.shuffle(uniq_ids)\n",
    "len(uniq_ids)\n",
    "\n",
    "train_size = int(len(uniq_ids) * 0.8) \n",
    "test_size = len(uniq_ids) - train_size\n",
    "\n",
    "train_ids = uniq_ids[:train_size]\n",
    "test_ids = uniq_ids[train_size:]\n",
    "\n",
    "train_df = df[df['image_id'].isin(train_ids)]\n",
    "test_df = df[df['image_id'].isin(test_ids)]\n",
    "\n",
    "train_dataset = CustomDataset(train_df, transform=transform)\n",
    "test_dataset = CustomDataset(test_df, transform=transform)\n",
    "\n",
    "batch_size = 32\n",
    "train_loader = DataLoader(train_dataset, batch_size=batch_size, shuffle=True)\n",
    "test_loader = DataLoader(test_dataset, batch_size=batch_size, shuffle=False)"
   ]
  },
  {
   "cell_type": "code",
   "execution_count": 10,
   "id": "c599b31b-aa52-4be9-b34e-abb39b1bb521",
   "metadata": {},
   "outputs": [],
   "source": [
    "def train_model(model, train_loader, loss_fn, optimizer, num_epochs=10):\n",
    "\n",
    "    train_losses = []\n",
    "    \n",
    "    for epoch in range(num_epochs):\n",
    "        model.train()\n",
    "        train_loss = 0.0\n",
    "        for images, labels, idx in train_loader:\n",
    "            images, labels = images.to(device), labels.to(device).unsqueeze(1)\n",
    "            # labels = labels.to(device).unsqueeze(1)\n",
    "            \n",
    "            optimizer.zero_grad()\n",
    "            outputs = model(images)\n",
    "            loss = loss_fn(outputs, labels)\n",
    "            loss.backward()\n",
    "            optimizer.step()\n",
    "            train_loss += loss.item() * images.size(0)\n",
    "\n",
    "        train_loss = train_loss / len(train_loader.dataset)\n",
    "        train_losses.append(train_loss)\n",
    "        \n",
    "        print(f\"Epoch {epoch+1}/{num_epochs}, Train Loss: {train_loss:.4f}\")\n",
    "\n",
    "    return train_losses"
   ]
  },
  {
   "cell_type": "code",
   "execution_count": 11,
   "id": "6f783989-f380-4db9-a1cf-70492b683fdd",
   "metadata": {},
   "outputs": [
    {
     "name": "stdout",
     "output_type": "stream",
     "text": [
      "Epoch 1/10, Train Loss: 0.3656\n",
      "Epoch 2/10, Train Loss: 0.1358\n",
      "Epoch 3/10, Train Loss: 0.1011\n",
      "Epoch 4/10, Train Loss: 0.1462\n",
      "Epoch 5/10, Train Loss: 0.0741\n",
      "Epoch 6/10, Train Loss: 0.0428\n",
      "Epoch 7/10, Train Loss: 0.0622\n",
      "Epoch 8/10, Train Loss: 0.0475\n",
      "Epoch 9/10, Train Loss: 0.0422\n",
      "Epoch 10/10, Train Loss: 0.0453\n"
     ]
    }
   ],
   "source": [
    "train_losses = train_model(model, train_loader, loss_fn, optimizer, num_epochs=10)"
   ]
  },
  {
   "cell_type": "code",
   "execution_count": 12,
   "id": "637d2519-611a-4f0d-8f60-6a7a7597c916",
   "metadata": {},
   "outputs": [],
   "source": [
    "def evaluate_model(model, test_loader):\n",
    "    model.eval()\n",
    "    correct = 0\n",
    "    total = 0\n",
    "    wrong_predicted_idx = []\n",
    "    with torch.no_grad():\n",
    "        for images, labels, idx in test_loader:\n",
    "            images = images.to(device)\n",
    "            labels = labels.to(device).unsqueeze(1)\n",
    "            outputs = model(images)\n",
    "            predicted = (outputs > 0.5).float()\n",
    "            result = (predicted == labels)\n",
    "            total += labels.size(0)\n",
    "            correct += result.sum().item()\n",
    "            \n",
    "            for i, res in enumerate(result):\n",
    "                if not res:\n",
    "                    wrong_predicted_idx.append(idx[i].item())\n",
    "\n",
    "    print(\"correct: \", correct)\n",
    "    print(\"total: \",total)\n",
    "    accuracy = 100 * correct / total\n",
    "    print(f'Accuracy: {accuracy:.2f}%')\n",
    "    return wrong_predicted_idx"
   ]
  },
  {
   "cell_type": "code",
   "execution_count": 13,
   "id": "9e596b61-1ef2-432f-a146-08b48bc91104",
   "metadata": {},
   "outputs": [
    {
     "name": "stdout",
     "output_type": "stream",
     "text": [
      "correct:  175\n",
      "total:  181\n",
      "Accuracy: 96.69%\n"
     ]
    }
   ],
   "source": [
    "wrong = evaluate_model(model, test_loader)"
   ]
  },
  {
   "cell_type": "code",
   "execution_count": 15,
   "id": "1da6d9f2-0dfa-46f6-a651-334d4746225c",
   "metadata": {},
   "outputs": [
    {
     "data": {
      "image/png": "[encoded data removed]",
      "text/plain": [
       "<Figure size 1000x1000 with 6 Axes>"
      ]
     },
     "metadata": {},
     "output_type": "display_data"
    }
   ],
   "source": [
    "import matplotlib.pyplot as plt\n",
    "\n",
    "# RCA = 1\n",
    "# LCA = 0\n",
    "TP = df['SIDE'].value_counts().get(1.0)\n",
    "TN = df['SIDE'].value_counts().get(0.0)\n",
    "\n",
    "def display_wrong_predictions(df, wrong):\n",
    "    plt.figure(figsize=(10, 10))\n",
    "\n",
    "    FP = 0\n",
    "    FN = 0\n",
    "    for i, val in enumerate(wrong, start=1):\n",
    "        plt.subplot(1, len(wrong), i)\n",
    "        plt.imshow(df.loc[val, 'segmentation'])\n",
    "        plt.axis('off')\n",
    "        if df.loc[val, 'SIDE'] == 1.0:\n",
    "            FN += 1\n",
    "        else:\n",
    "            FP += 1\n",
    "        title = \"True label: RCA\" if df.loc[val, 'SIDE'] == 1.0 else \"True label: LCA\"\n",
    "        plt.title(title)\n",
    "\n",
    "    plt.tight_layout()\n",
    "    plt.show()\n",
    "    return FP, FN\n",
    "\n",
    "FP, FN = display_wrong_predictions(df, wrong)\n",
    "TP = TP - FN\n",
    "TN = TN - FP"
   ]
  },
  {
   "cell_type": "code",
   "execution_count": 16,
   "id": "0bddc8fe-c997-4fa1-bcd2-e3bf767af1ce",
   "metadata": {},
   "outputs": [
    {
     "name": "stdout",
     "output_type": "stream",
     "text": [
      "TP:  326\n",
      "TN:  556\n",
      "FP:  1\n",
      "FN:  5\n",
      "suma:  888\n"
     ]
    }
   ],
   "source": [
    "print(\"TP: \", TP)\n",
    "print(\"TN: \", TN)\n",
    "print(\"FP: \", FP)\n",
    "print(\"FN: \", FN)\n",
    "\n",
    "print(\"suma: \", TP+TN+FP+FN)"
   ]
  },
  {
   "cell_type": "code",
   "execution_count": 17,
   "id": "26d60e2b-2a6f-4b12-bbe3-1bd9290fbe1f",
   "metadata": {},
   "outputs": [
    {
     "data": {
      "image/png": "[encoded data removed]",
      "text/plain": [
       "<Figure size 640x480 with 2 Axes>"
      ]
     },
     "metadata": {},
     "output_type": "display_data"
    }
   ],
   "source": [
    "conf_matrix = [[TN, FP],\n",
    "               [FN, TP]]\n",
    "\n",
    "# Wyświetlanie confusion matrix za pomocą biblioteki seaborn\n",
    "sns.heatmap(conf_matrix, annot=True, fmt='d', cmap='Blues', \n",
    "            xticklabels=['Predicted LCA', 'Predicted RCA'], \n",
    "            yticklabels=['Actual LCA', 'Actual RCA'])\n",
    "plt.title('Confusion Matrix RCA/LCA')\n",
    "plt.show()"
   ]
  },
  {
   "cell_type": "code",
   "execution_count": 18,
   "id": "9d6ff9d3-1644-4e9d-b0d1-421800847fdf",
   "metadata": {},
   "outputs": [],
   "source": [
    "torch.save(model.state_dict(), 'suspicious_model.pth')"
   ]
  },
  {
   "cell_type": "code",
   "execution_count": 19,
   "id": "47efa57f-6759-457d-9444-7d9bd8e2f7a7",
   "metadata": {},
   "outputs": [
    {
     "data": {
      "image/png": "[encoded data removed]",
      "text/plain": [
       "<Figure size 1200x500 with 1 Axes>"
      ]
     },
     "metadata": {},
     "output_type": "display_data"
    }
   ],
   "source": [
    "# Rysowanie krzywych uczenia\n",
    "def plot_learning_curves(train_losses):\n",
    "    epochs = range(1, len(train_losses) + 1)\n",
    "    \n",
    "    plt.figure(figsize=(12, 5))\n",
    "\n",
    "    plt.subplot(1, 2, 1)\n",
    "    plt.plot(epochs, train_losses, label='Train Loss')\n",
    "    plt.xlabel('Epochs')\n",
    "    plt.ylabel('Loss')\n",
    "    plt.legend()\n",
    "    plt.title('Train Loss')\n",
    "\n",
    "    plt.tight_layout()\n",
    "    plt.show()\n",
    "\n",
    "plot_learning_curves(train_losses)"
   ]
  },
  {
   "cell_type": "code",
   "execution_count": null,
   "id": "004a02ac-b137-440d-a07d-f2c3fb5246dd",
   "metadata": {},
   "outputs": [],
   "source": []
  },
  {
   "cell_type": "code",
   "execution_count": null,
   "id": "b5055e1f-5ad5-4c38-92b3-51652fd86d26",
   "metadata": {},
   "outputs": [],
   "source": []
  }
 ],
 "metadata": {
  "kernelspec": {
   "display_name": "Python 3 (ipykernel)",
   "language": "python",
   "name": "python3"
  },
  "language_info": {
   "codemirror_mode": {
    "name": "ipython",
    "version": 3
   },
   "file_extension": ".py",
   "mimetype": "text/x-python",
   "name": "python",
   "nbconvert_exporter": "python",
   "pygments_lexer": "ipython3",
   "version": "3.10.13"
  }
 },
 "nbformat": 4,
 "nbformat_minor": 5
}
