{
 "cells": [
  {
   "cell_type": "code",
   "execution_count": 15,
   "id": "e4f96103-e2cd-4595-ba49-67601066765e",
   "metadata": {},
   "outputs": [
    {
     "name": "stdout",
     "output_type": "stream",
     "text": [
      "The autoreload extension is already loaded. To reload it, use:\n",
      "  %reload_ext autoreload\n"
     ]
    }
   ],
   "source": [
    "import torch\n",
    "from tqdm import tqdm\n",
    "import pandas as pd\n",
    "import numpy as np\n",
    "from torch.utils.data import DataLoader\n",
    "from sklearn.metrics import f1_score\n",
    "import wandb\n",
    "\n",
    "%load_ext autoreload\n",
    "%autoreload all\n",
    "\n",
    "from models import SiameseResNet\n",
    "from vit import SiameseViT\n",
    "from datasets import DominanceDataset\n",
    "from utils import read_images, plot_wandb_training_curves"
   ]
  },
  {
   "cell_type": "code",
   "execution_count": 2,
   "id": "671a31e0-0e4b-4d22-b31f-c00ac5bb8704",
   "metadata": {},
   "outputs": [
    {
     "name": "stdout",
     "output_type": "stream",
     "text": [
      "Loaded images from cache.\n"
     ]
    }
   ],
   "source": [
    "images = read_images()"
   ]
  },
  {
   "cell_type": "code",
   "execution_count": 3,
   "id": "e2d8031e-de5f-4a6b-8ad4-1a97df228396",
   "metadata": {},
   "outputs": [],
   "source": [
    "train_dataset = DominanceDataset(images, split=\"train\")\n",
    "test_dataset = DominanceDataset(images, split=\"test\")\n",
    "\n",
    "train_loader = DataLoader(train_dataset, batch_size=8, shuffle=True)\n",
    "test_loader = DataLoader(test_dataset, batch_size=8)"
   ]
  },
  {
   "cell_type": "code",
   "execution_count": 16,
   "id": "f53f91cb-772b-4bba-93f4-6ac70fe238f0",
   "metadata": {
    "scrolled": true
   },
   "outputs": [
    {
     "data": {
      "text/html": [
       "Finishing last run (ID:kczy43nb) before initializing another..."
      ],
      "text/plain": [
       "<IPython.core.display.HTML object>"
      ]
     },
     "metadata": {},
     "output_type": "display_data"
    },
    {
     "data": {
      "text/html": [
       "<style>\n",
       "    table.wandb td:nth-child(1) { padding: 0 10px; text-align: left ; width: auto;} td:nth-child(2) {text-align: left ; width: 100%}\n",
       "    .wandb-row { display: flex; flex-direction: row; flex-wrap: wrap; justify-content: flex-start; width: 100% }\n",
       "    .wandb-col { display: flex; flex-direction: column; flex-basis: 100%; flex: 1; padding: 10px; }\n",
       "    </style>\n",
       "<div class=\"wandb-row\"><div class=\"wandb-col\"><h3>Run history:</h3><br/><table class=\"wandb\"><tr><td>epoch</td><td>▁▁▁▂▂▂▂▂▂▃▃▃▃▃▄▄▄▄▄▅▅▅▅▅▅▆▆▆▆▆▇▇▇▇▇▇███</td></tr><tr><td>test_f1_score</td><td>▆▆▆▆▆▆▆▆▆▆█▂▆▅▅▆▁▆▁▅▆▅▅▆▅▆▆▆▆▃▆▅▆▆▆▆▅▂▅</td></tr><tr><td>test_loss</td><td>▂▃▁▁▂▁▂▃▃▃▅▄▄▃▂▃▅▇▆▃▆▇▆▄▄▅▃▃▄▅▇█▇██▆▇▆█</td></tr><tr><td>train_f1_score</td><td>▁▃▃▄▅▄▅▅▆▇▇▆▆▆▇█▇███▇█▇▇▄▅▄▅▇▇██▇▇███▆█</td></tr><tr><td>train_loss</td><td>█▆▅▆▅▄▄▅▃▃▃▄▃▃▃▂▂▁▁▁▂▁▂▄▆▅▅▄▂▂▁▁▁▁▂▂▁▃▁</td></tr></table><br/></div><div class=\"wandb-col\"><h3>Run summary:</h3><br/><table class=\"wandb\"><tr><td>epoch</td><td>38</td></tr><tr><td>test_f1_score</td><td>0.74303</td></tr><tr><td>test_loss</td><td>1.15095</td></tr><tr><td>train_f1_score</td><td>1.0</td></tr><tr><td>train_loss</td><td>0.02754</td></tr></table><br/></div></div>"
      ],
      "text/plain": [
       "<IPython.core.display.HTML object>"
      ]
     },
     "metadata": {},
     "output_type": "display_data"
    },
    {
     "data": {
      "text/html": [
       " View run <strong style=\"color:#cdcd00\">trim-lake-13</strong> at: <a href='https://wandb.ai/woj-jasinski/corflow-dominance/runs/kczy43nb' target=\"_blank\">https://wandb.ai/woj-jasinski/corflow-dominance/runs/kczy43nb</a><br/> View project at: <a href='https://wandb.ai/woj-jasinski/corflow-dominance' target=\"_blank\">https://wandb.ai/woj-jasinski/corflow-dominance</a><br/>Synced 6 W&B file(s), 0 media file(s), 0 artifact file(s) and 0 other file(s)"
      ],
      "text/plain": [
       "<IPython.core.display.HTML object>"
      ]
     },
     "metadata": {},
     "output_type": "display_data"
    },
    {
     "data": {
      "text/html": [
       "Find logs at: <code>./wandb/run-20240620_081136-kczy43nb/logs</code>"
      ],
      "text/plain": [
       "<IPython.core.display.HTML object>"
      ]
     },
     "metadata": {},
     "output_type": "display_data"
    },
    {
     "data": {
      "text/html": [
       "The new W&B backend becomes opt-out in version 0.18.0; try it out with `wandb.require(\"core\")`! See https://wandb.me/wandb-core for more information."
      ],
      "text/plain": [
       "<IPython.core.display.HTML object>"
      ]
     },
     "metadata": {},
     "output_type": "display_data"
    },
    {
     "data": {
      "text/html": [
       "Successfully finished last run (ID:kczy43nb). Initializing new run:<br/>"
      ],
      "text/plain": [
       "<IPython.core.display.HTML object>"
      ]
     },
     "metadata": {},
     "output_type": "display_data"
    },
    {
     "data": {
      "text/html": [
       "Tracking run with wandb version 0.17.2"
      ],
      "text/plain": [
       "<IPython.core.display.HTML object>"
      ]
     },
     "metadata": {},
     "output_type": "display_data"
    },
    {
     "data": {
      "text/html": [
       "Run data is saved locally in <code>/root/wojtek/random/corflow/wandb/run-20240620_081254-kha7ng1r</code>"
      ],
      "text/plain": [
       "<IPython.core.display.HTML object>"
      ]
     },
     "metadata": {},
     "output_type": "display_data"
    },
    {
     "data": {
      "text/html": [
       "Syncing run <strong><a href='https://wandb.ai/woj-jasinski/corflow-dominance/runs/kha7ng1r' target=\"_blank\">hopeful-vortex-14</a></strong> to <a href='https://wandb.ai/woj-jasinski/corflow-dominance' target=\"_blank\">Weights & Biases</a> (<a href='https://wandb.me/run' target=\"_blank\">docs</a>)<br/>"
      ],
      "text/plain": [
       "<IPython.core.display.HTML object>"
      ]
     },
     "metadata": {},
     "output_type": "display_data"
    },
    {
     "data": {
      "text/html": [
       " View project at <a href='https://wandb.ai/woj-jasinski/corflow-dominance' target=\"_blank\">https://wandb.ai/woj-jasinski/corflow-dominance</a>"
      ],
      "text/plain": [
       "<IPython.core.display.HTML object>"
      ]
     },
     "metadata": {},
     "output_type": "display_data"
    },
    {
     "data": {
      "text/html": [
       " View run at <a href='https://wandb.ai/woj-jasinski/corflow-dominance/runs/kha7ng1r' target=\"_blank\">https://wandb.ai/woj-jasinski/corflow-dominance/runs/kha7ng1r</a>"
      ],
      "text/plain": [
       "<IPython.core.display.HTML object>"
      ]
     },
     "metadata": {},
     "output_type": "display_data"
    },
    {
     "name": "stderr",
     "output_type": "stream",
     "text": [
      "Loss: 0.1779/0.8105 | F1 0.9527/0.7699: 100%|████████████████████████████████████████████████████████████████████████████████████| 50/50 [01:05<00:00,  1.31s/it]\n"
     ]
    },
    {
     "data": {
      "text/html": [
       "<style>\n",
       "    table.wandb td:nth-child(1) { padding: 0 10px; text-align: left ; width: auto;} td:nth-child(2) {text-align: left ; width: 100%}\n",
       "    .wandb-row { display: flex; flex-direction: row; flex-wrap: wrap; justify-content: flex-start; width: 100% }\n",
       "    .wandb-col { display: flex; flex-direction: column; flex-basis: 100%; flex: 1; padding: 10px; }\n",
       "    </style>\n",
       "<div class=\"wandb-row\"><div class=\"wandb-col\"><h3>Run history:</h3><br/><table class=\"wandb\"><tr><td>epoch</td><td>▁▁▁▁▂▂▂▂▂▃▃▃▃▃▃▄▄▄▄▄▅▅▅▅▅▅▆▆▆▆▆▆▇▇▇▇▇███</td></tr><tr><td>test_f1_score</td><td>▄▄▄▄▄▄▄▄▄▄▂▄▄▄▄▄▄▄▄▄▄▄▄▄▄▂▄▄▄▄▄▄▄▂▂█▁▄▂▄</td></tr><tr><td>test_loss</td><td>▂▂▂▂▂▂▂▃▂▄▃▂▄▄▄▂▃▃▄▃▄▄▃▅▄▆▆▃▄▄▄▄▆▇█▁▇▆▅▅</td></tr><tr><td>train_f1_score</td><td>▁▄▄▄▄▄▄▅▆▅▅▅▅▆▆▆▄▅▅▆▆▇▇█▆▆▆▇▇▇███▇▇▇▇▇▆▇</td></tr><tr><td>train_loss</td><td>█▅▆▅▄▅▄▃▄▄▄▄▃▃▄▃▄▅▄▃▃▂▂▁▄▃▂▂▃▃▁▁▁▁▂▂▂▁▃▂</td></tr></table><br/></div><div class=\"wandb-col\"><h3>Run summary:</h3><br/><table class=\"wandb\"><tr><td>epoch</td><td>49</td></tr><tr><td>test_f1_score</td><td>0.76992</td></tr><tr><td>test_loss</td><td>0.8105</td></tr><tr><td>train_f1_score</td><td>0.9527</td></tr><tr><td>train_loss</td><td>0.17792</td></tr></table><br/></div></div>"
      ],
      "text/plain": [
       "<IPython.core.display.HTML object>"
      ]
     },
     "metadata": {},
     "output_type": "display_data"
    },
    {
     "data": {
      "text/html": [
       " View run <strong style=\"color:#cdcd00\">hopeful-vortex-14</strong> at: <a href='https://wandb.ai/woj-jasinski/corflow-dominance/runs/kha7ng1r' target=\"_blank\">https://wandb.ai/woj-jasinski/corflow-dominance/runs/kha7ng1r</a><br/> View project at: <a href='https://wandb.ai/woj-jasinski/corflow-dominance' target=\"_blank\">https://wandb.ai/woj-jasinski/corflow-dominance</a><br/>Synced 6 W&B file(s), 0 media file(s), 1 artifact file(s) and 0 other file(s)"
      ],
      "text/plain": [
       "<IPython.core.display.HTML object>"
      ]
     },
     "metadata": {},
     "output_type": "display_data"
    },
    {
     "data": {
      "text/html": [
       "Find logs at: <code>./wandb/run-20240620_081254-kha7ng1r/logs</code>"
      ],
      "text/plain": [
       "<IPython.core.display.HTML object>"
      ]
     },
     "metadata": {},
     "output_type": "display_data"
    },
    {
     "data": {
      "text/html": [
       "The new W&B backend becomes opt-out in version 0.18.0; try it out with `wandb.require(\"core\")`! See https://wandb.me/wandb-core for more information."
      ],
      "text/plain": [
       "<IPython.core.display.HTML object>"
      ]
     },
     "metadata": {},
     "output_type": "display_data"
    }
   ],
   "source": [
    "run = wandb.init(\n",
    "    project='corflow-dominance', \n",
    "    config={\n",
    "        \"architecture\": \"SiameseViT\",\n",
    "    }\n",
    ")\n",
    "device = torch.device('cuda' if torch.cuda.is_available() else 'cpu')\n",
    "\n",
    "model = SiameseViT() \n",
    "model = model.to(device)\n",
    "\n",
    "criterion = torch.nn.CrossEntropyLoss()\n",
    "optimizer = torch.optim.Adam(model.parameters(), lr=0.0002)\n",
    "\n",
    "best_test_loss = np.inf\n",
    "pbar = tqdm(range(50))\n",
    "for epoch in pbar:\n",
    "    model.train()\n",
    "    running_loss = 0.0\n",
    "    all_preds, all_labels = [], []\n",
    "    for imgs_l, imgs_r, labels in train_loader:\n",
    "        imgs_l, imgs_r, labels = imgs_l.to(device), imgs_r.to(device), labels.to(device)\n",
    "\n",
    "        outputs = model(imgs_l, imgs_r)\n",
    "        loss = criterion(outputs, labels)\n",
    "\n",
    "        optimizer.zero_grad()\n",
    "        loss.backward()\n",
    "        optimizer.step()\n",
    "\n",
    "        running_loss += loss.item()\n",
    "        all_preds.extend(torch.argmax(outputs, dim=1).cpu().numpy())\n",
    "        all_labels.extend(labels.cpu().numpy())\n",
    "\n",
    "    avg_train_loss = running_loss / len(train_loader)\n",
    "    train_f1_score = f1_score(all_labels, all_preds, average='weighted')\n",
    "\n",
    "    model.eval()\n",
    "    running_loss = 0.0\n",
    "    all_preds, all_labels = [], []\n",
    "    with torch.no_grad():\n",
    "        for imgs_l, imgs_r, labels in test_loader:\n",
    "            imgs_l, imgs_r, labels = imgs_l.to(device), imgs_r.to(device), labels.to(device)\n",
    "            \n",
    "            outputs = model(imgs_l, imgs_r)\n",
    "            loss = criterion(outputs, labels)\n",
    "\n",
    "            running_loss += loss.item()\n",
    "            all_preds.extend(torch.argmax(outputs, dim=1).cpu().numpy())\n",
    "            all_labels.extend(labels.cpu().numpy())\n",
    "\n",
    "    avg_test_loss = running_loss / len(test_loader)\n",
    "    test_f1_score = f1_score(all_labels, all_preds, average='weighted')\n",
    "    \n",
    "    pbar.set_description(\n",
    "        f'Loss: {avg_train_loss:.4f}/{avg_test_loss:.4f} | ' \n",
    "        f'F1 {train_f1_score:.4f}/{test_f1_score:.4f}'\n",
    "    )\n",
    "\n",
    "    wandb.log({\n",
    "        \"test_loss\": avg_test_loss, \"test_f1_score\": test_f1_score,\n",
    "        \"train_loss\": avg_train_loss, \"train_f1_score\": train_f1_score,\n",
    "        \"epoch\": epoch\n",
    "    })\n",
    "\n",
    "    if avg_test_loss < best_test_loss:\n",
    "        best_test_loss = avg_test_loss\n",
    "        torch.save(model.state_dict(), 'weights/dominance.pth')\n",
    "\n",
    "artifact = wandb.Artifact('model-artifact', type='model')\n",
    "artifact.add_file('weights/dominance.pth')\n",
    "wandb.log_artifact(artifact)\n",
    "\n",
    "wandb.finish()"
   ]
  },
  {
   "cell_type": "code",
   "execution_count": null,
   "id": "dc938c5d-ae19-451d-9399-a467d1a0b9f8",
   "metadata": {},
   "outputs": [],
   "source": [
    "plot_wandb_training_curves(\"corflow-dominance\", metric=\"f1_score\")"
   ]
  },
  {
   "cell_type": "code",
   "execution_count": null,
   "id": "ffce4ec5-62c8-440d-8910-21ae9301bc81",
   "metadata": {},
   "outputs": [],
   "source": []
  }
 ],
 "metadata": {
  "kernelspec": {
   "display_name": "med",
   "language": "python",
   "name": "med"
  },
  "language_info": {
   "codemirror_mode": {
    "name": "ipython",
    "version": 3
   },
   "file_extension": ".py",
   "mimetype": "text/x-python",
   "name": "python",
   "nbconvert_exporter": "python",
   "pygments_lexer": "ipython3",
   "version": "3.10.14"
  }
 },
 "nbformat": 4,
 "nbformat_minor": 5
}
