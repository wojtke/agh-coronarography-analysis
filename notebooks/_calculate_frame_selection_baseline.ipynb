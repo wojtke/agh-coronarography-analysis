{
 "cells": [
  {
   "cell_type": "code",
   "execution_count": 1,
   "id": "76ea32b6-e2de-4596-bb3e-5440ebbf2db4",
   "metadata": {},
   "outputs": [],
   "source": [
    "import io\n",
    "from PIL import Image\n",
    "import numpy as np\n",
    "\n",
    "from utils import read_images"
   ]
  },
  {
   "cell_type": "code",
   "execution_count": 2,
   "id": "691e4a9d-8d1e-4aae-a32f-25ca7bf58b51",
   "metadata": {},
   "outputs": [
    {
     "name": "stdout",
     "output_type": "stream",
     "text": [
      "Loaded images from cache.\n"
     ]
    }
   ],
   "source": [
    "images = read_images()"
   ]
  },
  {
   "cell_type": "code",
   "execution_count": 4,
   "id": "f90480eb-f30b-4bb6-b130-ee012cf6d6a0",
   "metadata": {},
   "outputs": [
    {
     "data": {
      "text/plain": [
       "tensor([[-0.5482,  0.2334]], grad_fn=<AddmmBackward0>)"
      ]
     },
     "execution_count": 4,
     "metadata": {},
     "output_type": "execute_result"
    }
   ],
   "source": [
    "def get_jpeg_size(img2d):\n",
    "    pil_img = Image.fromarray(img2d)\n",
    "    buffer = io.BytesIO()\n",
    "    pil_img.save(buffer, format=\"JPEG\", quality=10)\n",
    "    return buffer.tell()\n",
    "    \n",
    "def get_entropy_baseline_scores(img_id):\n",
    "    img = images[img_id] \n",
    "    sizes = np.array([get_jpeg_size(im) for im in img])\n",
    "    return sizes / sizes.max()\n",
    "\n"
   ]
  },
  {
   "cell_type": "code",
   "execution_count": null,
   "id": "b04268a2-efc8-4f85-a723-0bdb8716f40e",
   "metadata": {},
   "outputs": [],
   "source": []
  }
 ],
 "metadata": {
  "kernelspec": {
   "display_name": "med",
   "language": "python",
   "name": "med"
  },
  "language_info": {
   "codemirror_mode": {
    "name": "ipython",
    "version": 3
   },
   "file_extension": ".py",
   "mimetype": "text/x-python",
   "name": "python",
   "nbconvert_exporter": "python",
   "pygments_lexer": "ipython3",
   "version": "3.10.14"
  }
 },
 "nbformat": 4,
 "nbformat_minor": 5
}
